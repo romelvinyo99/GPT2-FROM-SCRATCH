{
 "cells": [
  {
   "cell_type": "markdown",
   "id": "ddf8d0de-fc76-4446-adae-3e2b59ada6c1",
   "metadata": {},
   "source": [
    "## 1. Transformer Block"
   ]
  },
  {
   "cell_type": "code",
<<<<<<< HEAD
   "execution_count": 34,
=======
   "execution_count": 1,
>>>>>>> 1cd3dc1 (stage 2 complete)
   "id": "514ebfbd-b8e6-4a0b-a5f0-d04e26ee4474",
   "metadata": {},
   "outputs": [],
   "source": [
    "import torch\n",
    "from torch import nn"
   ]
  },
  {
   "cell_type": "code",
<<<<<<< HEAD
   "execution_count": 35,
=======
   "execution_count": 2,
>>>>>>> 1cd3dc1 (stage 2 complete)
   "id": "bd72d76e-f7b6-47ea-805f-3dd1845402d6",
   "metadata": {},
   "outputs": [],
   "source": [
    "# Defining the GPT configuration settings\n",
    "\n",
    "GPT_Config_124M = {\n",
    "    \"vocab_size\": 50257,\n",
    "    \"context_length\": 256, \n",
    "    \"emb_dim\": 768,\n",
    "    \"n_heads\": 12,\n",
    "    \"n_layers\": 12,\n",
    "    \"dropout_rate\": 0.0,\n",
    "    \"qkv_bias\": False\n",
    "}"
   ]
  },
  {
   "cell_type": "code",
<<<<<<< HEAD
   "execution_count": 36,
=======
   "execution_count": 3,
>>>>>>> 1cd3dc1 (stage 2 complete)
   "id": "f6653dad-9e79-445a-9857-4e1c6d473919",
   "metadata": {},
   "outputs": [],
   "source": [
    "# 1. Activation function\n",
    "class GELUActivation(nn.Module):\n",
    "    def __init__(self):\n",
    "        super().__init__()\n",
    "    def forward(self, x):\n",
    "        # Pass the input through the GELU activation - Approximate formula\n",
    "        return 0.5 * x * (1 + torch.tanh(torch.sqrt(torch.tensor(2.0) / torch.pi) * (x + 0.44715 * torch.pow(x, 3))))\n",
    "        \n",
    "# 2. Layer normalization\n",
    "class LayerNorm(nn.Module):\n",
    "    def __init__(self, emb_dim):\n",
    "        super().__init__()\n",
    "        # Defining the epsilon -  small constant added to the variance to prevent zero division - undefined - limits\n",
    "        self.eps = 1e-5\n",
    "        # Defining the scaling and shifting parameters - trainable - better results\n",
    "        self.shift = nn.Parameter(torch.zeros(emb_dim))\n",
    "        self.scale = nn.Parameter(torch.ones(emb_dim))\n",
    "    # Forward pass\n",
    "    def forward(self, x):\n",
    "        # Getting the mean and variance of each row\n",
    "        mean = x.mean(dim=-1, keepdim=True)\n",
    "        variance = x.var(dim=-1, keepdim=True)\n",
    "        # Getting the normalization values\n",
    "        norm_x = (x - mean) / torch.sqrt(variance + self.eps)\n",
    "        # Returning the normalized values of x shifted and scaled - finetuning parameters\n",
    "        return self.scale * norm_x + self.shift\n",
    "        \n",
    "# 3. Feed forward        \n",
    "class FeedForward(nn.Module):\n",
    "    def __init__(self, cfg):\n",
    "        super().__init__()\n",
    "        self.layers = nn.Sequential(\n",
    "            nn.Linear(cfg[\"emb_dim\"], cfg[\"emb_dim\"]*4),\n",
    "            GELUActivation(),\n",
    "            nn.Linear(cfg[\"emb_dim\"]*4, cfg[\"emb_dim\"])\n",
    "        )\n",
    "    def forward(self, x):\n",
    "        return self.layers(x)\n",
    "# 4. Attention Mechanism\n",
    "# Creating the multi-head attention compact class\n",
    "import torch\n",
    "from torch import nn\n",
    "\n",
    "class MultiHeadAttention(nn.Module):\n",
    "    def __init__(self, d_in, d_out, num_heads, context_length, dropout_rate, bias_units=False):\n",
    "        super().__init__()\n",
    "        assert d_out % num_heads == 0, \"dimensions out must be divisible by number of heads\"\n",
    "        # Getting the head dimensions\n",
    "        self.d_out = d_out\n",
    "        self.num_heads = num_heads\n",
    "        self.head_dim = d_out // num_heads\n",
    "        # Initializing the key query value weights - (d_out, d_out)\n",
    "        self.w_key = nn.Linear(d_in, d_out, bias=bias_units)\n",
    "        self.w_query = nn.Linear(d_in, d_out, bias=bias_units)\n",
    "        self.w_value = nn.Linear(d_in, d_out, bias=bias_units)\n",
    "        # Initializing the final projection layer - optional - (d_out, d_out)\n",
    "        self.out_proj = nn.Linear(d_out, d_out)\n",
    "        # Creating the masking layer\n",
    "        self.register_buffer(\"mask\", torch.triu(\n",
    "            torch.ones(context_length, context_length),\n",
    "            diagonal = 1\n",
    "        ))\n",
    "        # Creating the dropout layer\n",
    "        self.dropout = nn.Dropout(dropout_rate)\n",
    "    # Forward pass    \n",
    "    def forward(self, x):\n",
    "        # Exploding the input shape\n",
    "        b, num_tokens, d_out = x.shape\n",
    "        # Getting the key query value matrices (b, num_tokens, d_out)\n",
    "        keys = self.w_key(x)\n",
    "        queries = self.w_query(x)\n",
    "        values =  self.w_value(x)\n",
    "        # Reshaping the key query value matrices - (b, num_tokens, num_head, head_dim)\n",
    "        keys = keys.view(b, num_tokens, self.num_heads, self.head_dim)\n",
    "        queries = queries.view(b, num_tokens, self.num_heads, self.head_dim)\n",
    "        values = values.view(b, num_tokens, self.num_heads, self.head_dim)\n",
    "        # Grouping by number of heads - (b, num_heads, num_tokens, head_dim)\n",
    "        keys = keys.transpose(1, 2)\n",
    "        queries = queries.transpose(1, 2)\n",
    "        values = values.transpose(1, 2)\n",
    "        # Getting the attention scores - (b, num_heads, num_tokens, num_tokens)\n",
    "        attention_scores = queries @ keys.transpose(2, 3)\n",
    "        # Masking the attention scores\n",
    "        attention_scores.masked_fill_(\n",
    "            self.mask.bool()[:num_tokens, :num_tokens],\n",
    "            -torch.inf\n",
    "        )\n",
    "        # Scaling the attention scores\n",
    "        attention_scores = attention_scores / keys.shape[-1]**0.5\n",
    "        # Getting the attention weights\n",
    "        attention_weights = torch.softmax(attention_scores, dim=-1)\n",
    "        # Implementing the dropout layer\n",
    "        attention_weights = self.dropout(attention_weights)\n",
    "        # Getting the context vector - (b, num_heads, num_tokens, head_dim)\n",
    "        context_vector = attention_weights @ values\n",
    "        # Reshaping the context vectors - (b, num_tokens, num_heads, head_dim)\n",
    "        context_vector = context_vector.transpose(1, 2)\n",
    "        # Combining the result of mutiple heads - d_out = num_heads * head_dim\n",
    "        context_vector = context_vector.contiguous().view(b, num_tokens, d_out)\n",
    "        # Passing the final context vector into the projection layer - optional\n",
    "        context_vector = self.out_proj(context_vector)\n",
    "        return context_vector"
   ]
  },
  {
   "cell_type": "code",
<<<<<<< HEAD
   "execution_count": 37,
=======
   "execution_count": 4,
>>>>>>> 1cd3dc1 (stage 2 complete)
   "id": "9c960748-01aa-4d59-9950-779e47f0a74a",
   "metadata": {},
   "outputs": [],
   "source": [
    "# NB: Input = [b, num_tokens, 768]\n",
    "\n",
    "class TransformerBlock(nn.Module):\n",
    "    def __init__(self, cfg):\n",
    "        super().__init__()\n",
    "        # Defining the normalization layers\n",
    "        self.layerNorm1 = LayerNorm(cfg[\"emb_dim\"])\n",
    "        self.layerNorm2 = LayerNorm(cfg[\"emb_dim\"])\n",
    "        # Defining the dropout layers\n",
    "        self.drop_shortcut = nn.Dropout(cfg[\"dropout_rate\"])\n",
    "        # Defining the Multi-Head Attention layer\n",
    "        self.attention = MultiHeadAttention(\n",
    "            d_in = cfg[\"emb_dim\"],\n",
    "            d_out = cfg[\"emb_dim\"],\n",
    "            num_heads = cfg[\"n_heads\"],\n",
    "            context_length = cfg[\"context_length\"],\n",
    "            dropout_rate = cfg[\"dropout_rate\"],\n",
    "            bias_units = cfg[\"qkv_bias\"]\n",
    "        )\n",
    "        # Deefining the feed forward layer\n",
    "        self.feed_forward = FeedForward(cfg)\n",
    "    def forward(self, x):\n",
    "        # Shortcut connection for attention block\n",
    "        shortcut = x\n",
    "        x = self.layerNorm1(x)\n",
    "        x = self.attention(x)\n",
    "        x = self.drop_shortcut(x)\n",
    "        # Add the original input the output \n",
    "        x = x +  shortcut\n",
    "        # Shortcut connection for the \n",
    "        x = shortcut\n",
    "        x = self.layerNorm2(x)\n",
    "        x = self.feed_forward(x)\n",
    "        x = self.drop_shortcut(x)\n",
    "        # Add the original output\n",
    "        x = x + shortcut\n",
    "        return x"
   ]
  },
  {
   "cell_type": "markdown",
   "id": "8ed9ddb0-d72f-4412-9b62-b13b473b0def",
   "metadata": {},
   "source": [
    "## 2. GPT-Model"
   ]
  },
  {
   "cell_type": "code",
<<<<<<< HEAD
   "execution_count": 38,
=======
   "execution_count": 5,
>>>>>>> 1cd3dc1 (stage 2 complete)
   "id": "2a532b71-add0-4c6a-95fb-b8e9ad5d2023",
   "metadata": {},
   "outputs": [],
   "source": [
    "class GPTModel(nn.Module):\n",
    "    def __init__(self, cfg):\n",
    "        super().__init__()\n",
    "        # Defining the token embedding layer\n",
    "        self.tok_emb = nn.Embedding(cfg[\"vocab_size\"], cfg[\"emb_dim\"])\n",
    "        # Defining the positional embedding layer\n",
    "        self.pos_emb = nn.Embedding(cfg[\"context_length\"], cfg[\"emb_dim\"])\n",
    "        # Defining the dropout layer \n",
    "        self.drop_emb = nn.Dropout(cfg[\"dropout_rate\"])\n",
    "        # Defining the transformer blocks\n",
    "        self.transformer_blocks = nn.Sequential(\n",
    "            *[TransformerBlock(cfg) for _ in range(cfg[\"n_layers\"])]\n",
    "        )\n",
    "        # Defining the final normalization layer\n",
    "        self.final_norm = LayerNorm(cfg[\"emb_dim\"])\n",
    "        # Defining the final linear layer\n",
    "        self.out_head = nn.Linear(cfg[\"emb_dim\"], cfg[\"vocab_size\"], bias=False)\n",
    "    # Forward pass\n",
    "    def forward(self, in_idx):\n",
    "        # Explosion of shape\n",
    "        batch_size, seq_len = in_idx.shape\n",
    "        # Getting the token embeddings\n",
    "        token_embeddings = self.tok_emb(in_idx)\n",
    "        # Getting the positional embeddings\n",
    "        positional_embeddings = self.pos_emb(torch.arange(seq_len, device=in_idx.device))\n",
    "        # Getting the input embeddings\n",
    "        input_embeddings = token_embeddings + positional_embeddings\n",
    "        # Passing the input embeddings through the dropout layer\n",
    "        input_embeddings = self.drop_emb(input_embeddings)\n",
    "        # Passing the input embeddings through the transformer blocks\n",
    "        input_embeddings = self.transformer_blocks(input_embeddings)\n",
    "        # Passing the input embeddings through the final normalization layer\n",
    "        input_embeddings = self.final_norm(input_embeddings)\n",
    "        # Passint the input embeddings through the final linear layer to get logits\n",
    "        logits = self.out_head(input_embeddings)\n",
    "        return logits"
   ]
  },
  {
   "cell_type": "code",
<<<<<<< HEAD
   "execution_count": 39,
=======
   "execution_count": 6,
>>>>>>> 1cd3dc1 (stage 2 complete)
   "id": "a1b7e23a-b717-4279-be52-4a2e4c616700",
   "metadata": {},
   "outputs": [
    {
     "name": "stdout",
     "output_type": "stream",
     "text": [
      "torch.Size([2, 4])\n",
      "torch.Size([2, 4, 50257])\n"
     ]
    }
   ],
   "source": [
    "# Example of instantiation\n",
    "\n",
    "sample_batch = torch.tensor([[6109, 3636, 6100, 345],[6109, 1110, 6622, 257]])\n",
    "print(sample_batch.shape)\n",
    "torch.manual_seed(42)\n",
    "model = GPTModel(GPT_Config_124M)\n",
    "out = model(sample_batch)\n",
    "print(out.shape)"
   ]
  },
  {
   "cell_type": "code",
<<<<<<< HEAD
   "execution_count": 40,
=======
   "execution_count": 7,
>>>>>>> 1cd3dc1 (stage 2 complete)
   "id": "d877705d-b9b3-4e9d-9f4e-a528e37741fb",
   "metadata": {},
   "outputs": [
    {
     "data": {
      "text/plain": [
       "162419712"
      ]
     },
<<<<<<< HEAD
     "execution_count": 40,
=======
     "execution_count": 7,
>>>>>>> 1cd3dc1 (stage 2 complete)
     "metadata": {},
     "output_type": "execute_result"
    }
   ],
   "source": [
    "# Checking the number of parameters\n",
    "\n",
    "total_params = sum(p.numel() for p in model.parameters())\n",
    "total_params"
   ]
  },
  {
   "cell_type": "markdown",
   "id": "b158c4a4-ff26-4281-b3e8-294f2f89599c",
   "metadata": {},
   "source": [
    "- We can see this is not same as the original plan of 124M instead we have 163M\n",
    "- This is due to a concept weight tying\n",
    "- The GPT architechts reused the weight for the token embedding layer in the output layer"
   ]
  },
  {
   "cell_type": "code",
<<<<<<< HEAD
   "execution_count": 41,
=======
   "execution_count": 8,
>>>>>>> 1cd3dc1 (stage 2 complete)
   "id": "0a160dc4-bb39-47e5-8192-b8c4bfbcc089",
   "metadata": {},
   "outputs": [
    {
     "data": {
      "text/plain": [
       "True"
      ]
     },
<<<<<<< HEAD
     "execution_count": 41,
=======
     "execution_count": 8,
>>>>>>> 1cd3dc1 (stage 2 complete)
     "metadata": {},
     "output_type": "execute_result"
    }
   ],
   "source": [
    "# Confirming shapes match\n",
    "\n",
    "model.out_head.weight.shape == model.tok_emb.weight.shape"
   ]
  },
  {
   "cell_type": "code",
<<<<<<< HEAD
   "execution_count": 42,
=======
   "execution_count": 9,
>>>>>>> 1cd3dc1 (stage 2 complete)
   "id": "af1b4bf6-80dc-48f1-8bb4-22ff64cea7b2",
   "metadata": {},
   "outputs": [
    {
     "data": {
      "text/plain": [
       "torch.Size([50257, 768])"
      ]
     },
<<<<<<< HEAD
     "execution_count": 42,
=======
     "execution_count": 9,
>>>>>>> 1cd3dc1 (stage 2 complete)
     "metadata": {},
     "output_type": "execute_result"
    }
   ],
   "source": [
    "model.out_head.weight.shape"
   ]
  },
  {
   "cell_type": "code",
<<<<<<< HEAD
   "execution_count": 43,
=======
   "execution_count": 10,
>>>>>>> 1cd3dc1 (stage 2 complete)
   "id": "8a1a925d-18de-4637-8ffd-c1ab650c6f36",
   "metadata": {},
   "outputs": [
    {
     "data": {
      "text/plain": [
       "torch.Size([50257, 768])"
      ]
     },
<<<<<<< HEAD
     "execution_count": 43,
=======
     "execution_count": 10,
>>>>>>> 1cd3dc1 (stage 2 complete)
     "metadata": {},
     "output_type": "execute_result"
    }
   ],
   "source": [
    "model.tok_emb.weight.shape"
   ]
  },
  {
   "cell_type": "code",
<<<<<<< HEAD
   "execution_count": 44,
=======
   "execution_count": 11,
>>>>>>> 1cd3dc1 (stage 2 complete)
   "id": "29b7aa64-fefb-4d28-8e43-3a8d6f7dab84",
   "metadata": {},
   "outputs": [
    {
     "data": {
      "text/plain": [
       "123822336"
      ]
     },
<<<<<<< HEAD
     "execution_count": 44,
=======
     "execution_count": 11,
>>>>>>> 1cd3dc1 (stage 2 complete)
     "metadata": {},
     "output_type": "execute_result"
    }
   ],
   "source": [
    "# Confirming the theory of weight reusal\n",
    "\n",
    "GPT_MODEL_PARAMS = total_params - sum(p.numel() for p in model.out_head.parameters())\n",
    "GPT_MODEL_PARAMS"
   ]
  },
  {
   "cell_type": "markdown",
   "id": "d3164776-333e-4636-8c25-b9e6e8dbb5ca",
   "metadata": {},
   "source": [
    "## 3.Generating output tokens"
   ]
  },
  {
   "cell_type": "code",
<<<<<<< HEAD
   "execution_count": 45,
=======
   "execution_count": 12,
>>>>>>> 1cd3dc1 (stage 2 complete)
   "id": "98f37464-711c-4356-9fe1-646e052b9a72",
   "metadata": {},
   "outputs": [],
   "source": [
    "# Check LLM book for further clarification\n",
    "\n",
    "def generate_tokens_simple(model, idx, max_num_tokens, context_size):\n",
    "    # Number of iterations - number of new tokens to be generated\n",
    "    for _ in range(max_num_tokens):\n",
    "        # idx.shape = [batch, num_tokens] e.g = [2, 2]\n",
    "        # Slicing - making sure the context size = 5 if not select last 5 tokens\n",
    "        idx_condition = idx[:, -5:]\n",
    "        # Making predictions - getting the logits - logits.shape = [b, num_tokens, vocab_size]\n",
    "        with torch.no_grad():\n",
    "            logits = model(idx_condition)\n",
    "        # Extracting the last token row - logits[:, -1, :].shape = [b, 1, vocab_size]\n",
    "        logits = logits[:, -1, :]\n",
    "        # Converting the logits into probabilities - exponential sum\n",
    "        probabilities = torch.softmax(logits, dim=-1)\n",
    "        # Getting the element with the highest probability\n",
    "        idx_next = torch.argmax(probabilities, dim=-1, keepdim=True)\n",
    "        # Appending the predicted token to the running sequence\n",
    "        # idx = [b, num_tokens+1]\n",
    "        # We are concatenating along the last dimension which in this case is the last dimension\n",
    "        idx = torch.cat((idx, idx_next), dim=1)\n",
    "    # Returning the full sequence = original + generated upto max number of tokens\n",
    "    return idx   "
   ]
  },
  {
   "cell_type": "markdown",
   "id": "bc1b4144-0290-4ce3-bff6-cf99789e8332",
   "metadata": {},
   "source": [
    "## Testing Generation using real text"
   ]
  },
  {
   "cell_type": "code",
<<<<<<< HEAD
   "execution_count": 46,
=======
   "execution_count": 13,
>>>>>>> 1cd3dc1 (stage 2 complete)
   "id": "056aa2f6-6dc5-42fb-8f20-dcebf525143d",
   "metadata": {},
   "outputs": [
    {
     "name": "stdout",
     "output_type": "stream",
     "text": [
      "Encoded text =  [15496, 11, 314, 716, 12806, 422, 25935]\n",
      "Encoded tensor =  tensor([[15496,    11,   314,   716, 12806,   422, 25935]]) Shape =  torch.Size([1, 7])\n"
     ]
    }
   ],
   "source": [
    "# Encoding text to token ids\n",
    "import tiktoken\n",
    "\n",
    "starting_context = \"Hello, I am Jacob from Congo\"\n",
    "tokenizer = tiktoken.get_encoding(\"gpt2\")\n",
    "encoded = tokenizer.encode(starting_context)\n",
    "print(\"Encoded text = \", encoded)\n",
    "# Converting the encode into a tensor\n",
    "# The unsqueeze - we are adding an dimension: [num_tokens] ---> [b, num_tokens]\n",
    "encoded = torch.tensor(encoded).unsqueeze(0)\n",
    "print(\"Encoded tensor = \", encoded, \"Shape = \", encoded.shape)"
   ]
  },
  {
   "cell_type": "code",
<<<<<<< HEAD
   "execution_count": 47,
=======
   "execution_count": 14,
>>>>>>> 1cd3dc1 (stage 2 complete)
   "id": "d7729591-1867-4aec-94c8-88ae585948bd",
   "metadata": {},
   "outputs": [
    {
     "name": "stdout",
     "output_type": "stream",
     "text": [
      "Output tensor = tensor([[15496,    11,   314,   716, 12806,   422, 25935, 30543, 15508, 29900,\n",
      "         37257, 13825, 26687]]) Output tensor shape = torch.Size([1, 13])\n"
     ]
    }
   ],
   "source": [
    "# Generating text using our model\n",
    "\n",
    "# Setting the evaluation/testing mode - cancels some unnecessary components e.g dropout layers\n",
    "model.eval()\n",
    "output_tensor = generate_tokens_simple(\n",
    "    model = model,\n",
    "    idx = encoded,\n",
    "    max_num_tokens = 6,\n",
    "    context_size = GPT_Config_124M[\"context_length\"]\n",
    ")\n",
    "print(f\"Output tensor = {output_tensor} Output tensor shape = {output_tensor.shape}\")"
   ]
  },
  {
   "cell_type": "code",
<<<<<<< HEAD
   "execution_count": 48,
=======
   "execution_count": 15,
>>>>>>> 1cd3dc1 (stage 2 complete)
   "id": "e1eeaaf3-308e-44d7-ad60-5f9397e1e81d",
   "metadata": {},
   "outputs": [
    {
     "data": {
      "text/plain": [
       "'Hello, I am Jacob from Congo\"\\' teens undergone tightened obesityReference'"
      ]
     },
<<<<<<< HEAD
     "execution_count": 48,
=======
     "execution_count": 15,
>>>>>>> 1cd3dc1 (stage 2 complete)
     "metadata": {},
     "output_type": "execute_result"
    }
   ],
   "source": [
    "# Decoding the output tensor - remember we need to squeeze the first batch dimension\n",
    "# Note that the tiktoken doesnt work with tensor so use python lists or numpy arrays\n",
    "\n",
    "decoded_text = tokenizer.decode(output_tensor.squeeze(0).numpy())\n",
    "decoded_text"
   ]
  },
  {
   "cell_type": "markdown",
   "id": "ef205ce8-6d23-4a88-b00a-a333b31ab97c",
   "metadata": {},
   "source": [
    "## Creating decode and encoder class"
   ]
  },
  {
   "cell_type": "code",
<<<<<<< HEAD
   "execution_count": 49,
=======
   "execution_count": 16,
>>>>>>> 1cd3dc1 (stage 2 complete)
   "id": "04fb833f-b51e-487c-8f03-43d901584841",
   "metadata": {},
   "outputs": [],
   "source": [
    "# Creating the decoder and encoder functions\n",
    "import tiktoken\n",
    "tokenizer = tiktoken.get_encoding(\"gpt2\")\n",
    "# Encoder function\n",
    "def encoder(sample_text, tokenizer=tokenizer):\n",
    "    encoded_tensor = torch.tensor(tokenizer.encode(sample_text, allowed_special={\"<|endoftext|>\"})).unsqueeze(0)\n",
    "    return encoded_tensor\n",
    "# Decoder function\n",
    "def decoder(encoded_tensor, tokenizer=tokenizer):\n",
    "    decoded_text = tokenizer.decode(encoded_tensor.squeeze(0).numpy())\n",
    "    return decoded_text    "
   ]
  },
  {
   "cell_type": "code",
<<<<<<< HEAD
   "execution_count": 50,
=======
   "execution_count": 17,
>>>>>>> 1cd3dc1 (stage 2 complete)
   "id": "1a409c9c-ad99-4b51-8dec-4b9c269584f6",
   "metadata": {},
   "outputs": [
    {
     "data": {
      "text/plain": [
       "tensor([[ 6109,  3626,  6100,   345, 35300, 29583, 24889,  7113, 39862, 30189]])"
      ]
     },
<<<<<<< HEAD
     "execution_count": 50,
=======
     "execution_count": 17,
>>>>>>> 1cd3dc1 (stage 2 complete)
     "metadata": {},
     "output_type": "execute_result"
    }
   ],
   "source": [
    "# Testing the class\n",
    "sample_text = \"Every effort moves you\"\n",
    "token_ids = generate_tokens_simple(\n",
    "    model = model,\n",
    "    idx = encoder(sample_text, tokenizer),\n",
    "    max_num_tokens = 6,\n",
    "    context_size = GPT_Config_124M[\"context_length\"]\n",
    ")\n",
    "token_ids"
   ]
  },
  {
   "cell_type": "markdown",
   "id": "19aa6f6b-82bc-4fea-918b-d6f522e316b1",
   "metadata": {},
   "source": [
    "## Creating Input - target pairs"
   ]
  },
  {
   "cell_type": "code",
<<<<<<< HEAD
   "execution_count": 51,
=======
   "execution_count": 18,
>>>>>>> 1cd3dc1 (stage 2 complete)
   "id": "e409e900-6751-417f-94aa-adfb7e8e63b3",
   "metadata": {},
   "outputs": [
    {
     "data": {
      "text/plain": [
       "(torch.Size([2, 3]), torch.Size([2, 3]))"
      ]
     },
<<<<<<< HEAD
     "execution_count": 51,
=======
     "execution_count": 18,
>>>>>>> 1cd3dc1 (stage 2 complete)
     "metadata": {},
     "output_type": "execute_result"
    }
   ],
   "source": [
    "# effort moves you -- I really like\n",
    "inputs = torch.tensor([[16833, 3626, 6100],[40, 1107, 588]])\n",
    "# moves you forward -- really like chocolate\n",
    "targets = torch.tensor([[3626, 6100, 345], [1107, 588, 11311]])\n",
    "inputs.shape, targets.shape"
   ]
  },
  {
   "cell_type": "code",
<<<<<<< HEAD
   "execution_count": 52,
=======
   "execution_count": 19,
>>>>>>> 1cd3dc1 (stage 2 complete)
   "id": "1dd120b0-77d2-423e-abd9-9c895c894a39",
   "metadata": {},
   "outputs": [
    {
     "data": {
      "text/plain": [
       "(tensor([[[ 0.3570,  0.6767, -0.5159,  ..., -0.6060,  0.3366, -0.0650],\n",
       "          [ 0.0936,  0.2446, -0.0886,  ..., -0.4846, -0.0741,  1.2275],\n",
       "          [-0.5307, -0.0697,  0.5274,  ..., -0.0065, -1.1845,  0.6131]],\n",
       " \n",
       "         [[-0.0906,  0.5485,  0.2573,  ...,  0.1525,  0.2995,  0.7435],\n",
       "          [-0.3525,  0.4848, -0.1509,  ..., -0.0295,  0.4599,  1.4260],\n",
       "          [ 0.7239, -0.8283,  0.3101,  ..., -0.5223, -0.7993, -1.4578]]]),\n",
       " torch.Size([2, 3, 50257]))"
      ]
     },
<<<<<<< HEAD
     "execution_count": 52,
=======
     "execution_count": 19,
>>>>>>> 1cd3dc1 (stage 2 complete)
     "metadata": {},
     "output_type": "execute_result"
    }
   ],
   "source": [
    "# Getting the predictions for the inputs - We have a third row which is the prediction\n",
    "with torch.no_grad():\n",
    "    logits = model(inputs)\n",
    "logits, logits.shape   "
   ]
  },
  {
   "cell_type": "code",
<<<<<<< HEAD
   "execution_count": 53,
=======
   "execution_count": 20,
>>>>>>> 1cd3dc1 (stage 2 complete)
   "id": "09419e09-e097-4834-b463-09c96001c122",
   "metadata": {},
   "outputs": [
    {
     "data": {
      "text/plain": [
       "(tensor([[[42217],\n",
       "          [35523],\n",
       "          [ 5243]],\n",
       " \n",
       "         [[29716],\n",
       "          [ 8185],\n",
       "          [42456]]]),\n",
       " torch.Size([2, 3, 1]))"
      ]
     },
<<<<<<< HEAD
     "execution_count": 53,
=======
     "execution_count": 20,
>>>>>>> 1cd3dc1 (stage 2 complete)
     "metadata": {},
     "output_type": "execute_result"
    }
   ],
   "source": [
    "# We have three prediction tasks for every row but we will focus on the last one\n",
    "\n",
    "probas = torch.softmax(logits, dim=-1)\n",
    "outputs = torch.argmax(probas, dim=-1, keepdim=True)\n",
    "outputs, outputs.shape"
   ]
  },
  {
   "cell_type": "code",
<<<<<<< HEAD
   "execution_count": 54,
=======
   "execution_count": 21,
>>>>>>> 1cd3dc1 (stage 2 complete)
   "id": "fa9bd5ab-470c-4115-885b-0ca0b3c0b6bb",
   "metadata": {},
   "outputs": [
    {
     "data": {
      "text/plain": [
       "tensor([42217, 35523,  5243, 29716,  8185, 42456])"
      ]
     },
<<<<<<< HEAD
     "execution_count": 54,
=======
     "execution_count": 21,
>>>>>>> 1cd3dc1 (stage 2 complete)
     "metadata": {},
     "output_type": "execute_result"
    }
   ],
   "source": [
    "outputs.flatten()"
   ]
  },
  {
   "cell_type": "code",
<<<<<<< HEAD
   "execution_count": 55,
=======
   "execution_count": 22,
>>>>>>> 1cd3dc1 (stage 2 complete)
   "id": "4887d541-4ca7-4e46-9da1-be53b001dcb1",
   "metadata": {},
   "outputs": [
    {
     "name": "stdout",
     "output_type": "stream",
     "text": [
      "Targets batch 1:  effort moves you\n",
      "Outputs batch 1:  ceasesThumbnail radio\n"
     ]
    }
   ],
   "source": [
    "# Checking how far from true value we are\n",
    "\n",
    "print(f\"Targets batch 1: {decoder(targets[0].flatten())}\")\n",
    "print(f\"Outputs batch 1: {decoder(outputs[0].flatten())}\")"
   ]
  },
  {
   "cell_type": "markdown",
   "id": "7410bb3e-1538-4d72-b560-67e886be0a80",
   "metadata": {},
   "source": [
    "## Binary Cross Entropy Loss"
   ]
  },
  {
   "cell_type": "code",
<<<<<<< HEAD
   "execution_count": 56,
=======
   "execution_count": 23,
>>>>>>> 1cd3dc1 (stage 2 complete)
   "id": "ca92bbac-f823-43e4-b51f-91a8ee1f2d79",
   "metadata": {},
   "outputs": [
    {
     "data": {
      "text/plain": [
       "(tensor([[16833,  3626,  6100],\n",
       "         [   40,  1107,   588]]),\n",
       " torch.Size([2, 3]))"
      ]
     },
<<<<<<< HEAD
     "execution_count": 56,
=======
     "execution_count": 23,
>>>>>>> 1cd3dc1 (stage 2 complete)
     "metadata": {},
     "output_type": "execute_result"
    }
   ],
   "source": [
    "# Checking the inputs\n",
    "\n",
    "inputs, inputs.shape"
   ]
  },
  {
   "cell_type": "code",
<<<<<<< HEAD
   "execution_count": 57,
=======
   "execution_count": 24,
>>>>>>> 1cd3dc1 (stage 2 complete)
   "id": "befcd3d7-fe48-4763-b4db-72525a3b7684",
   "metadata": {},
   "outputs": [
    {
     "data": {
      "text/plain": [
       "(tensor([[ 3626,  6100,   345],\n",
       "         [ 1107,   588, 11311]]),\n",
       " torch.Size([2, 3]))"
      ]
     },
<<<<<<< HEAD
     "execution_count": 57,
=======
     "execution_count": 24,
>>>>>>> 1cd3dc1 (stage 2 complete)
     "metadata": {},
     "output_type": "execute_result"
    }
   ],
   "source": [
    "# Checking the targets\n",
    "\n",
    "targets, targets.shape"
   ]
  },
  {
   "cell_type": "code",
<<<<<<< HEAD
   "execution_count": 58,
=======
   "execution_count": 25,
>>>>>>> 1cd3dc1 (stage 2 complete)
   "id": "74549477-c6aa-483a-97e3-beef7cadea4e",
   "metadata": {},
   "outputs": [
    {
     "data": {
      "text/plain": [
       "(tensor([[[2.4135e-05, 3.3229e-05, 1.0082e-05,  ..., 9.2138e-06,\n",
       "           2.3649e-05, 1.5826e-05],\n",
       "          [1.8456e-05, 2.1465e-05, 1.5382e-05,  ..., 1.0352e-05,\n",
       "           1.5607e-05, 5.7356e-05],\n",
       "          [9.8770e-06, 1.5661e-05, 2.8455e-05,  ..., 1.6683e-05,\n",
       "           5.1364e-06, 3.1000e-05]],\n",
       " \n",
       "         [[1.5358e-05, 2.9099e-05, 2.1748e-05,  ..., 1.9584e-05,\n",
       "           2.2686e-05, 3.5367e-05],\n",
       "          [1.1778e-05, 2.7209e-05, 1.4408e-05,  ..., 1.6268e-05,\n",
       "           2.6540e-05, 6.9736e-05],\n",
       "          [3.4703e-05, 7.3491e-06, 2.2944e-05,  ..., 9.9808e-06,\n",
       "           7.5656e-06, 3.9162e-06]]]),\n",
       " torch.Size([2, 3, 50257]))"
      ]
     },
<<<<<<< HEAD
     "execution_count": 58,
=======
     "execution_count": 25,
>>>>>>> 1cd3dc1 (stage 2 complete)
     "metadata": {},
     "output_type": "execute_result"
    }
   ],
   "source": [
    "# Getting the probabilities\n",
    "\n",
    "with torch.no_grad():\n",
    "    logits = model(inputs)\n",
    "    probas = torch.softmax(logits, dim=-1)\n",
    "probas, probas.shape    "
   ]
  },
  {
   "cell_type": "markdown",
   "id": "49a9562d-46f2-450f-ad36-c2abdf9e371a",
   "metadata": {},
   "source": [
    "A. Long Method"
   ]
  },
  {
   "cell_type": "code",
<<<<<<< HEAD
   "execution_count": 59,
=======
   "execution_count": 26,
>>>>>>> 1cd3dc1 (stage 2 complete)
   "id": "1ec70d94-7dee-4821-a45c-d30c6d3caa6b",
   "metadata": {},
   "outputs": [
    {
     "data": {
      "text/plain": [
       "(tensor([3.2132e-06, 4.8871e-05, 8.0817e-06]),\n",
       " tensor([1.8494e-05, 2.7398e-05, 7.3609e-06]))"
      ]
     },
<<<<<<< HEAD
     "execution_count": 59,
=======
     "execution_count": 26,
>>>>>>> 1cd3dc1 (stage 2 complete)
     "metadata": {},
     "output_type": "execute_result"
    }
   ],
   "source": [
    "# Advanced indexing\n",
    "\n",
    "# Getting the probabilities for the first text\n",
    "text1_idx = 0\n",
    "text1_probas = probas[text1_idx, range(3), targets[text1_idx]]\n",
    "# Getting the probabilities for the second text\n",
    "text2_idx = 1\n",
    "text2_probas = probas[text2_idx, range(3), targets[text2_idx]]\n",
    "text1_probas, text2_probas"
   ]
  },
  {
   "cell_type": "code",
<<<<<<< HEAD
   "execution_count": 60,
=======
   "execution_count": 27,
>>>>>>> 1cd3dc1 (stage 2 complete)
   "id": "aef92216-173b-48de-b290-8881a0bf9ddd",
   "metadata": {},
   "outputs": [
    {
     "name": "stdout",
     "output_type": "stream",
     "text": [
      "Merged probabilities:  tensor([3.2132e-06, 4.8871e-05, 8.0817e-06, 1.8494e-05, 2.7398e-05, 7.3609e-06])\n",
      "Log of merged probabilities:  tensor([-12.6483,  -9.9263, -11.7259, -10.8981, -10.5050, -11.8193])\n",
      "Average log probability:  tensor(-11.2538)\n",
      "Negative average log probability:  tensor(11.2538)\n"
     ]
    }
   ],
   "source": [
    "# Merging the probabilities calculating the log probabilities\n",
    "text_probas = torch.cat((text1_probas, text2_probas), dim = -1)\n",
    "print(\"Merged probabilities: \", text_probas)\n",
    "# Calculating the log probabilities\n",
    "log_text_probas = torch.log(text_probas)\n",
    "print(\"Log of merged probabilities: \", log_text_probas)\n",
    "# Getting the average log probabilities value\n",
    "avg_log_probas = torch.mean(log_text_probas)\n",
    "print(\"Average log probability: \", avg_log_probas)\n",
    "# Getting the negative average log probabily value = loss\n",
    "loss = - avg_log_probas\n",
    "print(\"Negative average log probability: \", loss)"
   ]
  },
  {
   "cell_type": "markdown",
   "id": "f98be218-d125-4623-901f-c55ca07194bc",
   "metadata": {},
   "source": [
    "B. Shortcut method"
   ]
  },
  {
   "cell_type": "code",
<<<<<<< HEAD
   "execution_count": 61,
=======
   "execution_count": 28,
>>>>>>> 1cd3dc1 (stage 2 complete)
   "id": "80360cce-ade0-40f5-a537-4bfa77f8b723",
   "metadata": {},
   "outputs": [
    {
     "name": "stdout",
     "output_type": "stream",
     "text": [
      "Original logits shape:  torch.Size([2, 3, 50257])\n",
      "Targets Original shape:  torch.Size([2, 3])\n",
      "New shapes\n"
     ]
    },
    {
     "data": {
      "text/plain": [
       "(torch.Size([6, 50257]), torch.Size([6]))"
      ]
     },
<<<<<<< HEAD
     "execution_count": 61,
=======
     "execution_count": 28,
>>>>>>> 1cd3dc1 (stage 2 complete)
     "metadata": {},
     "output_type": "execute_result"
    }
   ],
   "source": [
    "print(\"Original logits shape: \", logits.shape)\n",
    "print(\"Targets Original shape: \", targets.shape)\n",
    "# Flattening the first two dimension of the logits\n",
    "logits_flatten = logits.flatten(0, 1)\n",
    "# Flattening the targets \n",
    "targets_flatten = targets.flatten()\n",
    "print(\"New shapes\")\n",
    "logits_flatten.shape, targets_flatten.shape"
   ]
  },
  {
   "cell_type": "code",
<<<<<<< HEAD
   "execution_count": 62,
=======
   "execution_count": 29,
>>>>>>> 1cd3dc1 (stage 2 complete)
   "id": "2d30a893-f583-4f09-b65b-9c065eaf84f4",
   "metadata": {},
   "outputs": [
    {
     "data": {
      "text/plain": [
       "tensor(11.2538)"
      ]
     },
<<<<<<< HEAD
     "execution_count": 62,
=======
     "execution_count": 29,
>>>>>>> 1cd3dc1 (stage 2 complete)
     "metadata": {},
     "output_type": "execute_result"
    }
   ],
   "source": [
    "# Calculating the loss\n",
    "loss = torch.nn.functional.cross_entropy(logits_flatten, targets_flatten)\n",
    "loss"
   ]
  },
  {
   "cell_type": "markdown",
   "id": "87286050-15a9-4140-a6ff-f4d58551febc",
   "metadata": {},
   "source": [
    "## Perplexity Score - Exponential of loss - Much more inteprable than loss\n",
    "\n",
    "- Lower perplexity score means a better model\n",
    "- **NB** A common misconception is that perplexity score ranges [1, num_classes] but not the case\n",
    "- Perplexity >= 1\n",
    "- The closer it is to one the better the model"
   ]
  },
  {
   "cell_type": "code",
<<<<<<< HEAD
   "execution_count": 63,
=======
   "execution_count": 30,
>>>>>>> 1cd3dc1 (stage 2 complete)
   "id": "03124bdc-8f43-4b09-97d6-8a86a0efc904",
   "metadata": {},
   "outputs": [
    {
     "data": {
      "text/plain": [
       "tensor(77174.2656)"
      ]
     },
<<<<<<< HEAD
     "execution_count": 63,
=======
     "execution_count": 30,
>>>>>>> 1cd3dc1 (stage 2 complete)
     "metadata": {},
     "output_type": "execute_result"
    }
   ],
   "source": [
    "# Getting the perplexity score for our model so far\n",
    "\n",
    "perplexity_score = torch.exp(loss)\n",
    "perplexity_score"
   ]
  },
  {
   "cell_type": "code",
<<<<<<< HEAD
   "execution_count": 64,
=======
   "execution_count": 31,
>>>>>>> 1cd3dc1 (stage 2 complete)
   "id": "eb3fe251-09bd-4792-b074-9512b669944a",
   "metadata": {},
   "outputs": [
    {
     "data": {
      "text/plain": [
       "(tensor([[15496,   616,  1438,   318,  5616,    85,  2047,    13]]),\n",
       " tensor([[  40,  716,  257, 3710,   13]]))"
      ]
     },
<<<<<<< HEAD
     "execution_count": 64,
=======
     "execution_count": 31,
>>>>>>> 1cd3dc1 (stage 2 complete)
     "metadata": {},
     "output_type": "execute_result"
    }
   ],
   "source": [
    "# Testing using a different input\n",
    "sample_inputs = \"Hello my name is Melvyn.\"\n",
    "sample_targets = \"I am a student.\"\n",
    "encoded_inputs = encoder(sample_inputs)\n",
    "encoded_targets = encoder(sample_targets)\n",
    "encoded_inputs, encoded_targets"
   ]
  },
  {
   "cell_type": "code",
<<<<<<< HEAD
   "execution_count": 65,
=======
   "execution_count": 32,
>>>>>>> 1cd3dc1 (stage 2 complete)
   "id": "beca1cdd-a20b-4669-9fd8-d74cbdff77fc",
   "metadata": {},
   "outputs": [
    {
     "data": {
      "text/plain": [
       "tensor([[15496,   616,  1438,   318,  5616,    85,  2047,    13, 39662, 15887,\n",
       "          4538,  1368, 27702]])"
      ]
     },
<<<<<<< HEAD
     "execution_count": 65,
=======
     "execution_count": 32,
>>>>>>> 1cd3dc1 (stage 2 complete)
     "metadata": {},
     "output_type": "execute_result"
    }
   ],
   "source": [
    "predicted_targets = generate_tokens_simple(\n",
    "    model = model,\n",
    "    idx = encoded_inputs,\n",
    "    max_num_tokens=5,\n",
    "    context_size = GPT_Config_124M[\"context_length\"]\n",
    ")\n",
    "predicted_targets"
   ]
  },
  {
   "cell_type": "markdown",
   "id": "f8927ed9-1bce-4418-af90-a26583cf986d",
   "metadata": {},
   "source": [
    "## Training and Validation loss - Real Dataset(the verdict story)"
   ]
  },
  {
   "cell_type": "code",
<<<<<<< HEAD
   "execution_count": 66,
=======
   "execution_count": 33,
>>>>>>> 1cd3dc1 (stage 2 complete)
   "id": "68207109-094f-4455-9800-3684ebaba603",
   "metadata": {},
   "outputs": [
    {
     "data": {
      "text/plain": [
       "'I HAD always thought Jack Gisburn rather a cheap genius--though a good fellow enough--so it was no great surprise to me to hear that, in the height of his glory, he had dropped his painting, married a rich widow, and established himself in a villa on the Riviera. (Though I rather thought it would have been Rome or Florence.)\\n\\n\"The height of his glory\"--that was what the women called it. I can hear Mrs. Gideon Thwing--his last Chicago sitter--deploring his unaccountable abdication. \"Of course it\\'s going to send the value of my picture \\'way up; but I don\\'t think of that, Mr. Rickham--the loss to Arrt is all I think of.\" The word, on Mrs. Thwing\\'s lips, multiplied its _rs_ as though they were reflected in an endless vista of mirrors. And it was not only the Mrs. Thwings who mourned. Had not the exquisite Hermia Croft, at the last Grafton Gallery show, stopped me before Gisburn\\'s \"Moon-dancers\" to say, with tears in her eyes: \"We shall not look upon its like again\"?\\n\\nWell!--even through th'"
      ]
     },
<<<<<<< HEAD
     "execution_count": 66,
=======
     "execution_count": 33,
>>>>>>> 1cd3dc1 (stage 2 complete)
     "metadata": {},
     "output_type": "execute_result"
    }
   ],
   "source": [
    "# Reading data \n",
    "\n",
    "with open(r\"C:\\Users\\nyasa\\Downloads\\BUILDING LLM FROM SCRATCH\\Stage1\\1.Data Preparation and Sampling\\1.Tokenization\\1.Word-Based-Tokenization\\the-verdict.txt\", \"r\") as f:\n",
    "    text_data = f.read()\n",
    "text_data[:1000]"
   ]
  },
  {
   "cell_type": "code",
<<<<<<< HEAD
   "execution_count": 67,
=======
   "execution_count": 34,
>>>>>>> 1cd3dc1 (stage 2 complete)
   "id": "17ecaee1-9620-4ae1-949c-62e3da99dcd4",
   "metadata": {},
   "outputs": [
    {
     "name": "stdout",
     "output_type": "stream",
     "text": [
      "Sample text has charachters =  20479\n"
     ]
    }
   ],
   "source": [
    "# Checking number of charachters\n",
    "\n",
    "print(\"Sample text has charachters = \", len(text_data))"
   ]
  },
  {
   "cell_type": "code",
<<<<<<< HEAD
   "execution_count": 68,
=======
   "execution_count": 35,
>>>>>>> 1cd3dc1 (stage 2 complete)
   "id": "f27a8341-ee26-40ec-86d5-68b12785085d",
   "metadata": {},
   "outputs": [
    {
     "name": "stdout",
     "output_type": "stream",
     "text": [
      "Sample text has tokens =  5145\n"
     ]
    },
    {
     "data": {
      "text/plain": [
       "(None, torch.Size([5145]))"
      ]
     },
<<<<<<< HEAD
     "execution_count": 68,
=======
     "execution_count": 35,
>>>>>>> 1cd3dc1 (stage 2 complete)
     "metadata": {},
     "output_type": "execute_result"
    }
   ],
   "source": [
    "# Tokenization\n",
    "\n",
    "token_ids = encoder(text_data).squeeze(0)\n",
    "print(\"Sample text has tokens = \", len(token_ids)), token_ids.shape"
   ]
  },
  {
   "cell_type": "code",
<<<<<<< HEAD
   "execution_count": 69,
=======
   "execution_count": 36,
>>>>>>> 1cd3dc1 (stage 2 complete)
   "id": "b56dfa29-823c-4ce2-b7bd-727f563fb897",
   "metadata": {},
   "outputs": [],
   "source": [
    "# Implementing the dataloader - input pair targets\n",
    "from torch.utils.data import DataLoader\n",
    "\n",
    "class InputPairTargetsV1:\n",
    "    def __init__(self, text, context_length, stride):\n",
    "        tokenizer = tiktoken.get_encoding(\"gpt2\")\n",
    "        token_ids = tokenizer.encode(text)\n",
    "        self.input_ids = []\n",
    "        self.target_ids = []\n",
    "        for i in range(0, len(token_ids)-context_length, stride):\n",
    "            input_chunk = token_ids[i: context_length+i]\n",
    "            target_chunk = token_ids[i+1:context_length+i+1]\n",
    "            self.input_ids.append(torch.tensor(input_chunk))\n",
    "            self.target_ids.append(torch.tensor(target_chunk)) \n",
    "    def __len__(self):\n",
    "        return len(self.input_ids)\n",
    "    def __getitem__(self, idx):\n",
    "        return self.input_ids[idx], self.target_ids[idx]\n",
    "\n",
    "def dataloader(text, context_length=256, stride=128, batch_size=4, workers=0, drop=True, shuffle=True):\n",
    "    dataset = InputPairTargetsV1(text, context_length, stride)\n",
    "    dataloader = DataLoader(\n",
    "        dataset = dataset,\n",
    "        batch_size = batch_size,\n",
    "        num_workers = workers,\n",
    "        drop_last = drop\n",
    "    )\n",
    "    return dataloader"
   ]
  },
  {
   "cell_type": "code",
<<<<<<< HEAD
   "execution_count": 70,
=======
   "execution_count": 37,
>>>>>>> 1cd3dc1 (stage 2 complete)
   "id": "09101833-0030-40cd-8f37-0f386e9c8420",
   "metadata": {},
   "outputs": [],
   "source": [
    "# Train and Validation ratio\n",
    "train_ratio = 0.90\n",
    "split_idx = int(train_ratio * len(text_data))\n",
    "train_data = text_data[:split_idx]\n",
    "validation_data = text_data[split_idx:]\n",
    "# Sanity check \n",
    "if len(tokenizer.encode(text_data)) * train_ratio < GPT_Config_124M[\"context_length\"]:\n",
    "    print(\"Not  enough tokens for the training dataloader try a smaller context length or increase the training ratio\")\n",
    "if len(tokenizer.encode(text_data)) * (1 - train_ratio) < GPT_Config_124M[\"context_length\"]:\n",
    "    print(\"Not  enough tokens for the validation dataloader try a smaller context length or reduce the training ratio\")    \n",
    "# Creating the train and validation dataloders\n",
    "torch.manual_seed(42)\n",
    "train_dataloader = dataloader(\n",
    "    train_data,\n",
    "    context_length = GPT_Config_124M[\"context_length\"],\n",
    "    stride = GPT_Config_124M[\"context_length\"],\n",
    "    batch_size = 2\n",
    ")\n",
    "validation_dataloader = dataloader(\n",
    "    validation_data,\n",
    "    context_length = GPT_Config_124M[\"context_length\"],\n",
    "    stride = GPT_Config_124M[\"context_length\"],\n",
    "    batch_size = 2\n",
    ")"
   ]
  },
  {
   "cell_type": "code",
<<<<<<< HEAD
   "execution_count": 71,
=======
   "execution_count": 38,
>>>>>>> 1cd3dc1 (stage 2 complete)
   "id": "afa306bb-1a28-473b-abc2-11af66e8794f",
   "metadata": {},
   "outputs": [
    {
     "name": "stdout",
     "output_type": "stream",
     "text": [
      "Train dataloader\n",
      "torch.Size([2, 256]) torch.Size([2, 256])\n",
      "torch.Size([2, 256]) torch.Size([2, 256])\n",
      "torch.Size([2, 256]) torch.Size([2, 256])\n",
      "torch.Size([2, 256]) torch.Size([2, 256])\n",
      "torch.Size([2, 256]) torch.Size([2, 256])\n",
      "torch.Size([2, 256]) torch.Size([2, 256])\n",
      "torch.Size([2, 256]) torch.Size([2, 256])\n",
      "torch.Size([2, 256]) torch.Size([2, 256])\n",
      "torch.Size([2, 256]) torch.Size([2, 256])\n",
      "Number of batches =  9\n",
      "Validation dataloader\n",
      "torch.Size([2, 256]) torch.Size([2, 256])\n",
      "Number of batches =  9\n"
     ]
    }
   ],
   "source": [
    "# Making sure the data is loaded correctly \n",
    "\n",
    "print(\"Train dataloader\")\n",
    "for x, y in train_dataloader:\n",
    "    print(x.shape, y.shape)\n",
    "print(\"Number of batches = \", len(train_dataloader))    \n",
    "print(\"Validation dataloader\")\n",
    "for x, y in validation_dataloader:\n",
    "    print(x.shape, y.shape)\n",
    "print(\"Number of batches = \", len(train_dataloader))    "
   ]
  },
  {
   "cell_type": "code",
<<<<<<< HEAD
   "execution_count": 72,
=======
   "execution_count": 39,
>>>>>>> 1cd3dc1 (stage 2 complete)
   "id": "dd570f3a-ccc0-450b-ad86-4f6e26bc2148",
   "metadata": {},
   "outputs": [
    {
     "name": "stdout",
     "output_type": "stream",
     "text": [
      "5120 5145\n"
     ]
    }
   ],
   "source": [
    "# Optional Second check\n",
    "\n",
    "number_of_elements = 0\n",
    "for input_batch, target_batch in train_dataloader:\n",
    "    number_of_elements += input_batch.numel()\n",
    "for input_batch, target_batch in validation_dataloader:\n",
    "    number_of_elements += input_batch.numel()\n",
    "print(number_of_elements, len(tokenizer.encode(text_data)))  "
   ]
  },
  {
   "cell_type": "markdown",
   "id": "b8b71ba7-044a-45cf-8c2a-2b958d7e5e6e",
   "metadata": {},
   "source": [
    "## Calculating the loss of batch"
   ]
  },
  {
   "cell_type": "code",
<<<<<<< HEAD
   "execution_count": 73,
=======
   "execution_count": 40,
>>>>>>> 1cd3dc1 (stage 2 complete)
   "id": "088a727a-2392-4cdd-bb56-866a74f1634e",
   "metadata": {},
   "outputs": [],
   "source": [
    "# Calculating the loss of a single batch\n",
    "def calculateLossBatch(input_batch, target_batch, model, device):\n",
    "    # Setting the device\n",
    "    input_batch, target_batch = input_batch.to(device), target_batch.to(device)\n",
    "    # Getting the logits for the input batch\n",
    "    logits = model(input_batch)\n",
    "    # Getting the loss\n",
    "    loss = nn.functional.cross_entropy(logits.flatten(0, 1), target_batch.flatten())\n",
    "    return loss\n",
    "    \n",
    "# Calculating the cumulative loss of all the batches\n",
    "def calculateTotalLoss(dataloader, model, device, num_batches=None):\n",
    "    total_loss = 0\n",
    "    # No batches present\n",
    "    if len(dataloader) == 0:\n",
    "        return float(\"nan\")\n",
    "    # If number of batches is not given\n",
    "    elif num_batches is None:\n",
    "        num_batches = len(dataloader)\n",
    "    else:\n",
    "        # If number of batches specified is more than the number of batches in the dataloader reduce\n",
    "        num_batches = min(num_batches, len(dataloader))\n",
    "    # Iterate the dataloader\n",
    "    for i, (input_batch, target_batch) in enumerate(dataloader):\n",
    "        if i < num_batches:\n",
    "            loss = calculateLossBatch(input_batch, target_batch, model, device)\n",
    "            total_loss += loss.item()\n",
    "        else:\n",
    "            break\n",
    "    # Calculatin the mean loss            \n",
    "    return total_loss / num_batches"
   ]
  },
  {
   "cell_type": "code",
<<<<<<< HEAD
   "execution_count": 74,
=======
   "execution_count": 41,
>>>>>>> 1cd3dc1 (stage 2 complete)
   "id": "121a0b56-ca78-4b3a-ab37-628c102bbd3e",
   "metadata": {},
   "outputs": [
    {
     "data": {
      "text/plain": [
       "device(type='cpu')"
      ]
     },
<<<<<<< HEAD
     "execution_count": 74,
=======
     "execution_count": 41,
>>>>>>> 1cd3dc1 (stage 2 complete)
     "metadata": {},
     "output_type": "execute_result"
    }
   ],
   "source": [
    "# Setting the device \n",
    "\n",
    "device = torch.device(\"cuda\" if torch.cuda.is_available() else \"cpu\")\n",
    "device"
   ]
  },
  {
   "cell_type": "code",
<<<<<<< HEAD
   "execution_count": 75,
=======
   "execution_count": 42,
>>>>>>> 1cd3dc1 (stage 2 complete)
   "id": "0d48fc7f-6719-4fd6-becb-630b1528aa4a",
   "metadata": {},
   "outputs": [
    {
     "data": {
      "text/plain": [
       "GPTModel(\n",
       "  (tok_emb): Embedding(50257, 768)\n",
       "  (pos_emb): Embedding(256, 768)\n",
       "  (drop_emb): Dropout(p=0.0, inplace=False)\n",
       "  (transformer_blocks): Sequential(\n",
       "    (0): TransformerBlock(\n",
       "      (layerNorm1): LayerNorm()\n",
       "      (layerNorm2): LayerNorm()\n",
       "      (drop_shortcut): Dropout(p=0.0, inplace=False)\n",
       "      (attention): MultiHeadAttention(\n",
       "        (w_key): Linear(in_features=768, out_features=768, bias=False)\n",
       "        (w_query): Linear(in_features=768, out_features=768, bias=False)\n",
       "        (w_value): Linear(in_features=768, out_features=768, bias=False)\n",
       "        (out_proj): Linear(in_features=768, out_features=768, bias=True)\n",
       "        (dropout): Dropout(p=0.0, inplace=False)\n",
       "      )\n",
       "      (feed_forward): FeedForward(\n",
       "        (layers): Sequential(\n",
       "          (0): Linear(in_features=768, out_features=3072, bias=True)\n",
       "          (1): GELUActivation()\n",
       "          (2): Linear(in_features=3072, out_features=768, bias=True)\n",
       "        )\n",
       "      )\n",
       "    )\n",
       "    (1): TransformerBlock(\n",
       "      (layerNorm1): LayerNorm()\n",
       "      (layerNorm2): LayerNorm()\n",
       "      (drop_shortcut): Dropout(p=0.0, inplace=False)\n",
       "      (attention): MultiHeadAttention(\n",
       "        (w_key): Linear(in_features=768, out_features=768, bias=False)\n",
       "        (w_query): Linear(in_features=768, out_features=768, bias=False)\n",
       "        (w_value): Linear(in_features=768, out_features=768, bias=False)\n",
       "        (out_proj): Linear(in_features=768, out_features=768, bias=True)\n",
       "        (dropout): Dropout(p=0.0, inplace=False)\n",
       "      )\n",
       "      (feed_forward): FeedForward(\n",
       "        (layers): Sequential(\n",
       "          (0): Linear(in_features=768, out_features=3072, bias=True)\n",
       "          (1): GELUActivation()\n",
       "          (2): Linear(in_features=3072, out_features=768, bias=True)\n",
       "        )\n",
       "      )\n",
       "    )\n",
       "    (2): TransformerBlock(\n",
       "      (layerNorm1): LayerNorm()\n",
       "      (layerNorm2): LayerNorm()\n",
       "      (drop_shortcut): Dropout(p=0.0, inplace=False)\n",
       "      (attention): MultiHeadAttention(\n",
       "        (w_key): Linear(in_features=768, out_features=768, bias=False)\n",
       "        (w_query): Linear(in_features=768, out_features=768, bias=False)\n",
       "        (w_value): Linear(in_features=768, out_features=768, bias=False)\n",
       "        (out_proj): Linear(in_features=768, out_features=768, bias=True)\n",
       "        (dropout): Dropout(p=0.0, inplace=False)\n",
       "      )\n",
       "      (feed_forward): FeedForward(\n",
       "        (layers): Sequential(\n",
       "          (0): Linear(in_features=768, out_features=3072, bias=True)\n",
       "          (1): GELUActivation()\n",
       "          (2): Linear(in_features=3072, out_features=768, bias=True)\n",
       "        )\n",
       "      )\n",
       "    )\n",
       "    (3): TransformerBlock(\n",
       "      (layerNorm1): LayerNorm()\n",
       "      (layerNorm2): LayerNorm()\n",
       "      (drop_shortcut): Dropout(p=0.0, inplace=False)\n",
       "      (attention): MultiHeadAttention(\n",
       "        (w_key): Linear(in_features=768, out_features=768, bias=False)\n",
       "        (w_query): Linear(in_features=768, out_features=768, bias=False)\n",
       "        (w_value): Linear(in_features=768, out_features=768, bias=False)\n",
       "        (out_proj): Linear(in_features=768, out_features=768, bias=True)\n",
       "        (dropout): Dropout(p=0.0, inplace=False)\n",
       "      )\n",
       "      (feed_forward): FeedForward(\n",
       "        (layers): Sequential(\n",
       "          (0): Linear(in_features=768, out_features=3072, bias=True)\n",
       "          (1): GELUActivation()\n",
       "          (2): Linear(in_features=3072, out_features=768, bias=True)\n",
       "        )\n",
       "      )\n",
       "    )\n",
       "    (4): TransformerBlock(\n",
       "      (layerNorm1): LayerNorm()\n",
       "      (layerNorm2): LayerNorm()\n",
       "      (drop_shortcut): Dropout(p=0.0, inplace=False)\n",
       "      (attention): MultiHeadAttention(\n",
       "        (w_key): Linear(in_features=768, out_features=768, bias=False)\n",
       "        (w_query): Linear(in_features=768, out_features=768, bias=False)\n",
       "        (w_value): Linear(in_features=768, out_features=768, bias=False)\n",
       "        (out_proj): Linear(in_features=768, out_features=768, bias=True)\n",
       "        (dropout): Dropout(p=0.0, inplace=False)\n",
       "      )\n",
       "      (feed_forward): FeedForward(\n",
       "        (layers): Sequential(\n",
       "          (0): Linear(in_features=768, out_features=3072, bias=True)\n",
       "          (1): GELUActivation()\n",
       "          (2): Linear(in_features=3072, out_features=768, bias=True)\n",
       "        )\n",
       "      )\n",
       "    )\n",
       "    (5): TransformerBlock(\n",
       "      (layerNorm1): LayerNorm()\n",
       "      (layerNorm2): LayerNorm()\n",
       "      (drop_shortcut): Dropout(p=0.0, inplace=False)\n",
       "      (attention): MultiHeadAttention(\n",
       "        (w_key): Linear(in_features=768, out_features=768, bias=False)\n",
       "        (w_query): Linear(in_features=768, out_features=768, bias=False)\n",
       "        (w_value): Linear(in_features=768, out_features=768, bias=False)\n",
       "        (out_proj): Linear(in_features=768, out_features=768, bias=True)\n",
       "        (dropout): Dropout(p=0.0, inplace=False)\n",
       "      )\n",
       "      (feed_forward): FeedForward(\n",
       "        (layers): Sequential(\n",
       "          (0): Linear(in_features=768, out_features=3072, bias=True)\n",
       "          (1): GELUActivation()\n",
       "          (2): Linear(in_features=3072, out_features=768, bias=True)\n",
       "        )\n",
       "      )\n",
       "    )\n",
       "    (6): TransformerBlock(\n",
       "      (layerNorm1): LayerNorm()\n",
       "      (layerNorm2): LayerNorm()\n",
       "      (drop_shortcut): Dropout(p=0.0, inplace=False)\n",
       "      (attention): MultiHeadAttention(\n",
       "        (w_key): Linear(in_features=768, out_features=768, bias=False)\n",
       "        (w_query): Linear(in_features=768, out_features=768, bias=False)\n",
       "        (w_value): Linear(in_features=768, out_features=768, bias=False)\n",
       "        (out_proj): Linear(in_features=768, out_features=768, bias=True)\n",
       "        (dropout): Dropout(p=0.0, inplace=False)\n",
       "      )\n",
       "      (feed_forward): FeedForward(\n",
       "        (layers): Sequential(\n",
       "          (0): Linear(in_features=768, out_features=3072, bias=True)\n",
       "          (1): GELUActivation()\n",
       "          (2): Linear(in_features=3072, out_features=768, bias=True)\n",
       "        )\n",
       "      )\n",
       "    )\n",
       "    (7): TransformerBlock(\n",
       "      (layerNorm1): LayerNorm()\n",
       "      (layerNorm2): LayerNorm()\n",
       "      (drop_shortcut): Dropout(p=0.0, inplace=False)\n",
       "      (attention): MultiHeadAttention(\n",
       "        (w_key): Linear(in_features=768, out_features=768, bias=False)\n",
       "        (w_query): Linear(in_features=768, out_features=768, bias=False)\n",
       "        (w_value): Linear(in_features=768, out_features=768, bias=False)\n",
       "        (out_proj): Linear(in_features=768, out_features=768, bias=True)\n",
       "        (dropout): Dropout(p=0.0, inplace=False)\n",
       "      )\n",
       "      (feed_forward): FeedForward(\n",
       "        (layers): Sequential(\n",
       "          (0): Linear(in_features=768, out_features=3072, bias=True)\n",
       "          (1): GELUActivation()\n",
       "          (2): Linear(in_features=3072, out_features=768, bias=True)\n",
       "        )\n",
       "      )\n",
       "    )\n",
       "    (8): TransformerBlock(\n",
       "      (layerNorm1): LayerNorm()\n",
       "      (layerNorm2): LayerNorm()\n",
       "      (drop_shortcut): Dropout(p=0.0, inplace=False)\n",
       "      (attention): MultiHeadAttention(\n",
       "        (w_key): Linear(in_features=768, out_features=768, bias=False)\n",
       "        (w_query): Linear(in_features=768, out_features=768, bias=False)\n",
       "        (w_value): Linear(in_features=768, out_features=768, bias=False)\n",
       "        (out_proj): Linear(in_features=768, out_features=768, bias=True)\n",
       "        (dropout): Dropout(p=0.0, inplace=False)\n",
       "      )\n",
       "      (feed_forward): FeedForward(\n",
       "        (layers): Sequential(\n",
       "          (0): Linear(in_features=768, out_features=3072, bias=True)\n",
       "          (1): GELUActivation()\n",
       "          (2): Linear(in_features=3072, out_features=768, bias=True)\n",
       "        )\n",
       "      )\n",
       "    )\n",
       "    (9): TransformerBlock(\n",
       "      (layerNorm1): LayerNorm()\n",
       "      (layerNorm2): LayerNorm()\n",
       "      (drop_shortcut): Dropout(p=0.0, inplace=False)\n",
       "      (attention): MultiHeadAttention(\n",
       "        (w_key): Linear(in_features=768, out_features=768, bias=False)\n",
       "        (w_query): Linear(in_features=768, out_features=768, bias=False)\n",
       "        (w_value): Linear(in_features=768, out_features=768, bias=False)\n",
       "        (out_proj): Linear(in_features=768, out_features=768, bias=True)\n",
       "        (dropout): Dropout(p=0.0, inplace=False)\n",
       "      )\n",
       "      (feed_forward): FeedForward(\n",
       "        (layers): Sequential(\n",
       "          (0): Linear(in_features=768, out_features=3072, bias=True)\n",
       "          (1): GELUActivation()\n",
       "          (2): Linear(in_features=3072, out_features=768, bias=True)\n",
       "        )\n",
       "      )\n",
       "    )\n",
       "    (10): TransformerBlock(\n",
       "      (layerNorm1): LayerNorm()\n",
       "      (layerNorm2): LayerNorm()\n",
       "      (drop_shortcut): Dropout(p=0.0, inplace=False)\n",
       "      (attention): MultiHeadAttention(\n",
       "        (w_key): Linear(in_features=768, out_features=768, bias=False)\n",
       "        (w_query): Linear(in_features=768, out_features=768, bias=False)\n",
       "        (w_value): Linear(in_features=768, out_features=768, bias=False)\n",
       "        (out_proj): Linear(in_features=768, out_features=768, bias=True)\n",
       "        (dropout): Dropout(p=0.0, inplace=False)\n",
       "      )\n",
       "      (feed_forward): FeedForward(\n",
       "        (layers): Sequential(\n",
       "          (0): Linear(in_features=768, out_features=3072, bias=True)\n",
       "          (1): GELUActivation()\n",
       "          (2): Linear(in_features=3072, out_features=768, bias=True)\n",
       "        )\n",
       "      )\n",
       "    )\n",
       "    (11): TransformerBlock(\n",
       "      (layerNorm1): LayerNorm()\n",
       "      (layerNorm2): LayerNorm()\n",
       "      (drop_shortcut): Dropout(p=0.0, inplace=False)\n",
       "      (attention): MultiHeadAttention(\n",
       "        (w_key): Linear(in_features=768, out_features=768, bias=False)\n",
       "        (w_query): Linear(in_features=768, out_features=768, bias=False)\n",
       "        (w_value): Linear(in_features=768, out_features=768, bias=False)\n",
       "        (out_proj): Linear(in_features=768, out_features=768, bias=True)\n",
       "        (dropout): Dropout(p=0.0, inplace=False)\n",
       "      )\n",
       "      (feed_forward): FeedForward(\n",
       "        (layers): Sequential(\n",
       "          (0): Linear(in_features=768, out_features=3072, bias=True)\n",
       "          (1): GELUActivation()\n",
       "          (2): Linear(in_features=3072, out_features=768, bias=True)\n",
       "        )\n",
       "      )\n",
       "    )\n",
       "  )\n",
       "  (final_norm): LayerNorm()\n",
       "  (out_head): Linear(in_features=768, out_features=50257, bias=False)\n",
       ")"
      ]
     },
<<<<<<< HEAD
     "execution_count": 75,
=======
     "execution_count": 42,
>>>>>>> 1cd3dc1 (stage 2 complete)
     "metadata": {},
     "output_type": "execute_result"
    }
   ],
   "source": [
    "# Setting te model to the available device\n",
    "\n",
    "model.to(device)"
   ]
  },
  {
   "cell_type": "code",
<<<<<<< HEAD
   "execution_count": 76,
=======
   "execution_count": 43,
>>>>>>> 1cd3dc1 (stage 2 complete)
   "id": "bc652f30-3df1-41ac-9f4d-9022cc4f82a6",
   "metadata": {},
   "outputs": [
    {
     "name": "stdout",
     "output_type": "stream",
     "text": [
      "Training loss =  11.005153867933485\n",
      "Validation loss =  11.034592628479004\n"
     ]
    }
   ],
   "source": [
    "# Calculating the loss\n",
    "\n",
    "torch.manual_seed(42)\n",
    "with torch.no_grad():\n",
    "    train_loss = calculateTotalLoss(train_dataloader, model, device)\n",
    "    validation_loss = calculateTotalLoss(validation_dataloader, model, device)\n",
    "print(\"Training loss = \", train_loss)    \n",
    "print(\"Validation loss = \", validation_loss)    "
   ]
  },
  {
   "cell_type": "markdown",
   "id": "8a1e6b89-cd82-472f-af1e-1af1f72c3981",
   "metadata": {},
   "source": [
    "## Creating the entire pretraining-loop"
   ]
  },
  {
   "attachments": {
    "445ccbcb-c8c7-438d-a734-7ef52cdf1384.png": {
     "image/png": "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"
    }
   },
   "cell_type": "markdown",
   "id": "46aadf9b-3153-44e9-baa6-b6f56583e09f",
   "metadata": {},
   "source": [
    "![image.png](attachment:445ccbcb-c8c7-438d-a734-7ef52cdf1384.png)"
   ]
  },
  {
   "cell_type": "code",
<<<<<<< HEAD
   "execution_count": 77,
=======
   "execution_count": 44,
>>>>>>> 1cd3dc1 (stage 2 complete)
   "id": "845329d9-4536-4455-9c72-694f1bc4193d",
   "metadata": {},
   "outputs": [],
   "source": [
    "# Creating the evaluation function\n",
    "\n",
    "def evaluate_model(train_dataloader, validation_dataloader, model, device, eval_iter):\n",
    "    # Setting evaluation mode\n",
    "    model.eval()\n",
    "    with torch.no_grad():\n",
    "        train_loss = calculateTotalLoss(train_dataloader, model, device, num_batches = eval_iter)\n",
    "        validation_loss = calculateTotalLoss(validation_dataloader, model, device, num_batches = eval_iter)\n",
    "    # Setting back to training mode\n",
    "    model.train()\n",
    "    return train_loss, validation_loss\n",
    "\n",
    "# Creating function to generate simple text\n",
    "\n",
    "def generateAndPrintSample(sample_text, tokenizer, model, device):\n",
    "    # Setting the context size\n",
    "    context_size = model.pos_emb.weight.shape[0]\n",
    "    # Encoding the sample text\n",
    "    idx = encoder(sample_text, tokenizer)\n",
    "    # Setting training mode\n",
    "    model.eval()\n",
    "    with torch.no_grad():\n",
    "        token_ids = generate_tokens_simple(\n",
    "            model = model, \n",
    "            idx = idx, \n",
    "            max_num_tokens=40,\n",
    "            context_size = context_size\n",
    "        )\n",
    "    # Decoding the output\n",
    "    decoded_text = decoder(token_ids, tokenizer)\n",
    "    color = \"\\033[1;32m\"\n",
    "    cleaned_text = decoded_text.replace('\\n', ' ')\n",
    "    print(f\"{color}Generated text = {cleaned_text}\\033[0m\")\n",
    "\n",
    "\n",
    "    \n",
    "# Creating a pretraining loop function\n",
    "from tqdm.auto import tqdm\n",
    "\n",
    "def pretrainingLoop(num_epochs, train_dataloader, validation_dataloader, model, device, optimizer, eval_freq, eval_iter, sample_text, tokenizer):\n",
    "    # Creating storage for losses and token tracking\n",
    "    train_losses, validation_losses, track_tokens_seen = [], [], []\n",
    "    tokens_seen, global_step = 0, -1\n",
    "    # Iterating the epochs - all batches forward pass per epoch\n",
    "    for epoch in tqdm(range(num_epochs)):\n",
    "        # Setting training mode\n",
    "        model.train()\n",
    "        # Iterating through batches\n",
    "        for input_batch, target_batch in train_dataloader:\n",
    "            # Resetting the loss gradients for the previous batch\n",
    "            optimizer.zero_grad()\n",
    "            # Calculating the loss of the batch\n",
    "            loss = calculateLossBatch(input_batch, target_batch, model, device)\n",
    "            # Calculating the loss gradients\n",
    "            loss.backward()\n",
    "            # Back propagating loss gradients\n",
    "            optimizer.step()\n",
    "            # Updating the global step - evaluation metric\n",
    "            global_step += 1\n",
    "            # Evaluation by calculating loss with current weights - Optional\n",
    "            if global_step % eval_freq == 0:\n",
    "                # Getting the training and validation loss for the entire model\n",
    "                train_loss, validation_loss = evaluate_model(train_dataloader, validation_dataloader, model, device, eval_iter)\n",
    "                train_losses.append(train_loss)\n",
    "                validation_losses.append(validation_loss)\n",
    "                # Updating the tokens seen tracking store\n",
    "                track_tokens_seen.append(tokens_seen)\n",
    "                print(f\"Epoch = {epoch + 1} - global step = {global_step}\")\n",
    "        # After each epoch generate some text to see results\n",
    "        generateAndPrintSample(sample_text, tokenizer, model, device)\n",
    "    return train_losses, validation_losses, track_tokens_seen"
   ]
  },
  {
   "cell_type": "code",
<<<<<<< HEAD
   "execution_count": 78,
=======
   "execution_count": 45,
>>>>>>> 1cd3dc1 (stage 2 complete)
   "id": "51c8413b-733b-409f-864d-343e20503c0a",
   "metadata": {},
   "outputs": [
    {
     "data": {
      "application/vnd.jupyter.widget-view+json": {
<<<<<<< HEAD
       "model_id": "c09171db25c24100a61af8fb7c18a73e",
=======
       "model_id": "ee5eafb4cb974d04be35fc4f39a93bc4",
>>>>>>> 1cd3dc1 (stage 2 complete)
       "version_major": 2,
       "version_minor": 0
      },
      "text/plain": [
       "  0%|          | 0/10 [00:00<?, ?it/s]"
      ]
     },
     "metadata": {},
     "output_type": "display_data"
    },
    {
     "name": "stdout",
     "output_type": "stream",
     "text": [
      "Epoch = 1 - global step = 0\n",
      "Epoch = 1 - global step = 5\n",
      "\u001b[1;32mGenerated text = Every effort moves you.                                       \u001b[0m\n",
      "Epoch = 2 - global step = 10\n",
      "Epoch = 2 - global step = 15\n",
      "\u001b[1;32mGenerated text = Every effort moves you. \". \". \". \". \". \". \". \". \". \". \". \". \".\u001b[0m\n",
      "Epoch = 3 - global step = 20\n",
      "Epoch = 3 - global step = 25\n",
      "\u001b[1;32mGenerated text = Every effort moves you know.                                      \u001b[0m\n",
      "Epoch = 4 - global step = 30\n",
      "Epoch = 4 - global step = 35\n",
      "\u001b[1;32mGenerated text = Every effort moves you in the he was _ he was _ he was _ he was _ he was _ he was _ he was _ he was _ he was _ he was _ he was _ he was _ he was\u001b[0m\n",
      "Epoch = 5 - global step = 40\n",
      "\u001b[1;32mGenerated text = Every effort moves you in the terrace of Hermia he said.                              \u001b[0m\n",
      "Epoch = 6 - global step = 45\n",
      "Epoch = 6 - global step = 50\n",
      "\u001b[1;32mGenerated text = Every effort moves you?\"                                       \u001b[0m\n",
      "Epoch = 7 - global step = 55\n",
      "Epoch = 7 - global step = 60\n",
      "\u001b[1;32mGenerated text = Every effort moves you?\"                                       \u001b[0m\n",
      "Epoch = 8 - global step = 65\n",
      "Epoch = 8 - global step = 70\n",
      "\u001b[1;32mGenerated text = Every effort moves you?\"                                       \u001b[0m\n",
      "Epoch = 9 - global step = 75\n",
      "Epoch = 9 - global step = 80\n",
      "\u001b[1;32mGenerated text = Every effort moves you?\"                                       \u001b[0m\n",
      "Epoch = 10 - global step = 85\n",
      "\u001b[1;32mGenerated text = Every effort moves you?\"                                       \u001b[0m\n",
<<<<<<< HEAD
      "Total execution time = 11.195678714911143\n"
=======
      "Total execution time = 12.900554259618124\n"
>>>>>>> 1cd3dc1 (stage 2 complete)
     ]
    }
   ],
   "source": [
    "# Testing the pretraining loop\n",
    "import time\n",
    "start_time = time.time()\n",
    "# Setting the optimizer\n",
    "optimizer = torch.optim.AdamW(model.parameters(), lr=0.0004, weight_decay=0.1)\n",
    "# Setting the number of epochs\n",
    "num_epochs = 10\n",
    "torch.manual_seed(42)\n",
    "train_losses, validation_losses, track_tokens_seen = pretrainingLoop(\n",
    "    num_epochs = num_epochs, \n",
    "    train_dataloader = train_dataloader, \n",
    "    validation_dataloader=validation_dataloader,\n",
    "    model = model, \n",
    "    device = device, \n",
    "    optimizer = optimizer,\n",
    "    eval_freq=5,\n",
    "    eval_iter=5,\n",
    "    sample_text=\"Every effort moves you\",\n",
    "    tokenizer=tokenizer\n",
    ")\n",
    "end_time = time.time()\n",
    "execution_time = (-start_time + end_time) / 60\n",
    "print(f\"Total execution time = {execution_time}\")"
   ]
  },
  {
   "cell_type": "code",
<<<<<<< HEAD
   "execution_count": 79,
=======
   "execution_count": 46,
>>>>>>> 1cd3dc1 (stage 2 complete)
   "id": "4a3380ca-e4d9-4c3e-9a58-362abd772cec",
   "metadata": {},
   "outputs": [
    {
     "data": {
      "image/png": "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",
      "text/plain": [
       "<Figure size 1600x600 with 1 Axes>"
      ]
     },
     "metadata": {},
     "output_type": "display_data"
    }
   ],
   "source": [
    "# Checking the loss values \n",
    "import matplotlib.pyplot as plt\n",
    "\n",
    "with plt.style.context(plt.style.available[0]):\n",
    "    plt.figure(figsize=(16, 6))\n",
    "    plt.plot(range(len(train_losses)), train_losses, label=\"Train loss\")\n",
    "    plt.plot(range(len(validation_losses)), validation_losses, label = \"Test loss\")\n",
    "    plt.xlabel(\"count\")\n",
    "    plt.ylabel(\"loss value\")\n",
    "    plt.title(\"Loss Evaluation\")\n",
    "    plt.grid(1)\n",
    "    plt.legend()"
   ]
  },
  {
   "cell_type": "code",
<<<<<<< HEAD
   "execution_count": 80,
=======
   "execution_count": 47,
>>>>>>> 1cd3dc1 (stage 2 complete)
   "id": "9392a2c2-1c0d-4de7-8e7b-b0a70eef720a",
   "metadata": {},
   "outputs": [
    {
     "data": {
      "text/plain": [
       "'I HAD always thought Jack Gisburn rather a cheap genius--though a good fellow enough--so it was no g. It was without that he without that he without that he without that he without that he without that he without that he without that he without that he without that he without that he without that he without that he without that he without that he without that he without that he without that he without that he without that he without that he without that he without that he without that he without that he without that he without that he without that he without that he without that he without that he without that he without'"
      ]
     },
<<<<<<< HEAD
     "execution_count": 80,
=======
     "execution_count": 47,
>>>>>>> 1cd3dc1 (stage 2 complete)
     "metadata": {},
     "output_type": "execute_result"
    }
   ],
   "source": [
    "# Making some simple predictions on seen data\n",
    "\n",
    "sample_text = text_data[:100]\n",
    "# Getting the predicted sequence\n",
    "token_ids = generate_tokens_simple(\n",
    "    model = model, \n",
    "    idx = torch.tensor(tokenizer.encode(sample_text)).unsqueeze(0),\n",
    "    max_num_tokens=100,\n",
    "    context_size=5\n",
    ")\n",
    "# Decoding the model output\n",
    "decoded_text = tokenizer.decode(token_ids.squeeze(0).numpy())\n",
    "decoded_text"
   ]
  },
  {
   "cell_type": "markdown",
   "id": "c3be5059-b052-4ea0-a227-0e449a2b610f",
   "metadata": {},
   "source": [
    "## Decoding Strategies to reduce randomness"
   ]
  },
  {
   "cell_type": "markdown",
   "id": "e6ba23a3-fcfe-4b55-b46f-d6d046c77eb2",
   "metadata": {},
   "source": [
    "## 1. Temprature Scaling"
   ]
  },
  {
   "cell_type": "code",
<<<<<<< HEAD
   "execution_count": 81,
=======
   "execution_count": 48,
>>>>>>> 1cd3dc1 (stage 2 complete)
   "id": "b0c284ec-b5e3-4d3d-b85c-f6643236a901",
   "metadata": {},
   "outputs": [
    {
     "data": {
      "text/plain": [
       "({'closer': 0,\n",
       "  'every': 1,\n",
       "  'effort': 2,\n",
       "  'forward': 3,\n",
       "  'inches': 4,\n",
       "  'moves': 5,\n",
       "  'pizza': 6,\n",
       "  'toward': 7,\n",
       "  'you': 8},\n",
       " {0: 'closer',\n",
       "  1: 'every',\n",
       "  2: 'effort',\n",
       "  3: 'forward',\n",
       "  4: 'inches',\n",
       "  5: 'moves',\n",
       "  6: 'pizza',\n",
       "  7: 'toward',\n",
       "  8: 'you'})"
      ]
     },
<<<<<<< HEAD
     "execution_count": 81,
=======
     "execution_count": 48,
>>>>>>> 1cd3dc1 (stage 2 complete)
     "metadata": {},
     "output_type": "execute_result"
    }
   ],
   "source": [
    "import torch\n",
    "# Using a small vocabulary size\n",
    "\n",
    "unique_words = [\"closer\", \"every\", \"effort\", \"forward\", \"inches\", \"moves\", \"pizza\", \"toward\", \"you\"]\n",
    "# Creating the vocabulary - encoder\n",
    "vocab = {word:i for i, word in enumerate(unique_words)}\n",
    "# Creating the inverse vocabulary - decoder\n",
    "inverse_vocab = {i:word for word, i in vocab.items()}\n",
    "vocab, inverse_vocab"
   ]
  },
  {
   "cell_type": "code",
<<<<<<< HEAD
   "execution_count": 82,
=======
   "execution_count": 49,
>>>>>>> 1cd3dc1 (stage 2 complete)
   "id": "98ee613f-58ab-4143-8c16-770ddb2313c3",
   "metadata": {},
   "outputs": [
    {
     "data": {
      "text/plain": [
       "tensor(1.0000)"
      ]
     },
<<<<<<< HEAD
     "execution_count": 82,
=======
     "execution_count": 49,
>>>>>>> 1cd3dc1 (stage 2 complete)
     "metadata": {},
     "output_type": "execute_result"
    }
   ],
   "source": [
    "# Next lets assume our sample context = \"Every effort moves you\"\n",
    "\n",
    "# Lets assume the logits\n",
    "next_token_logits = torch.tensor(\n",
    "    [4.51, 0.89, -1.90, 6.75, 1.63, -1.62, -1.89, 6.28, 1.79]\n",
    ")\n",
    "\n",
    "# Getting the probabilities - softmax\n",
    "probabilities = torch.softmax(next_token_logits, dim=-1)\n",
    "torch.sum(probabilities)"
   ]
  },
  {
   "cell_type": "code",
<<<<<<< HEAD
   "execution_count": 83,
=======
   "execution_count": 50,
>>>>>>> 1cd3dc1 (stage 2 complete)
   "id": "bd022b67-8e75-44e1-9159-f8ae75b39b9c",
   "metadata": {},
   "outputs": [
    {
     "name": "stdout",
     "output_type": "stream",
     "text": [
      "3\n"
     ]
    },
    {
     "data": {
      "text/plain": [
       "'forward'"
      ]
     },
<<<<<<< HEAD
     "execution_count": 83,
=======
     "execution_count": 50,
>>>>>>> 1cd3dc1 (stage 2 complete)
     "metadata": {},
     "output_type": "execute_result"
    }
   ],
   "source": [
    "# Getting the next token - using argamax - highest probability\n",
    "\n",
    "# Getting the id for the next token\n",
    "next_token_id = torch.argmax(probabilities).item()\n",
    "print(next_token_id)\n",
    "# Decoding - getting the text for the next token\n",
    "inverse_vocab[next_token_id]"
   ]
  },
  {
   "cell_type": "code",
<<<<<<< HEAD
   "execution_count": 84,
=======
   "execution_count": 51,
>>>>>>> 1cd3dc1 (stage 2 complete)
   "id": "cc6bedba-76c1-4ef4-9615-e9ea7e4fcbe6",
   "metadata": {},
   "outputs": [
    {
     "name": "stdout",
     "output_type": "stream",
     "text": [
      "3\n"
     ]
    },
    {
     "data": {
      "text/plain": [
       "'forward'"
      ]
     },
<<<<<<< HEAD
     "execution_count": 84,
=======
     "execution_count": 51,
>>>>>>> 1cd3dc1 (stage 2 complete)
     "metadata": {},
     "output_type": "execute_result"
    }
   ],
   "source": [
    "# Replacing the argmax function with the probabilistic sampling\n",
    "\n",
    "next_token_id = torch.multinomial(probabilities, num_samples=1).item()\n",
    "print(next_token_id)\n",
    "# Decoding the next token id\n",
    "inverse_vocab[next_token_id]"
   ]
  },
  {
   "cell_type": "code",
<<<<<<< HEAD
   "execution_count": 85,
=======
   "execution_count": 52,
>>>>>>> 1cd3dc1 (stage 2 complete)
   "id": "2847dce8-af52-4168-ab77-f54be255f631",
   "metadata": {},
   "outputs": [
    {
     "name": "stdout",
     "output_type": "stream",
     "text": [
      "62 x closer\n",
      "0 x every\n",
      "0 x effort\n",
      "560 x forward\n",
      "4 x inches\n",
      "0 x moves\n",
      "0 x pizza\n",
      "370 x toward\n",
      "4 x you\n"
     ]
    }
   ],
   "source": [
    "# Sampling 1000 times\n",
    "# It is more random but the token with the highest probability will have the highest frequency of selection\n",
    "\n",
    "def print_sample_tokens(probabilities):\n",
    "    torch.manual_seed(42)\n",
    "    # Getting the predicted token ids - probabilistically\n",
    "    sample = [torch.multinomial(probabilities, num_samples=1).item() for _ in range(1000)]\n",
    "    # Getting the frequency\n",
    "    sample_ids = torch.bincount(torch.tensor(sample))\n",
    "    # Getting the number and its frequency - note  even the number with 0 frequency will be represented\n",
    "    for i, freq in enumerate(sample_ids):\n",
    "        print(f\"{freq} x {inverse_vocab[i]}\")   \n",
    "print_sample_tokens(probabilities)"
   ]
  },
  {
   "cell_type": "markdown",
   "id": "c5485f7c-16aa-40a7-8efa-b3d07f20bb31",
   "metadata": {},
   "source": [
    "Introducing Temprature\n",
    "\n",
    "- When temprature > 1 - lower confidence / more uniform distribution where other tokens have a chance of selection - this can add more variety but also more non-sensical text\n",
    "- When temprature < 1 - higher confidence/sharper distribution\n",
    "- When temprature = 1 - Normal\n",
    "- Because of this we do not want temprature value to high - very variable\n",
    "- And we do not want temprature value too low - because the token with the highest value will be the most probable - just like argmax"
   ]
  },
  {
   "cell_type": "code",
<<<<<<< HEAD
   "execution_count": 86,
=======
   "execution_count": 53,
>>>>>>> 1cd3dc1 (stage 2 complete)
   "id": "9ea16b59-2e41-44c7-b6ba-27ef2601046a",
   "metadata": {},
   "outputs": [
    {
     "data": {
      "text/plain": [
       "[tensor([6.0907e-02, 1.6313e-03, 1.0019e-04, 5.7212e-01, 3.4190e-03, 1.3257e-04,\n",
       "         1.0120e-04, 3.5758e-01, 4.0122e-03]),\n",
       " tensor([1.8530e-10, 3.5189e-26, 2.6890e-38, 9.9099e-01, 5.7569e-23, 4.4220e-37,\n",
       "         2.9718e-38, 9.0133e-03, 2.8514e-22]),\n",
       " tensor([0.1546, 0.0750, 0.0429, 0.2421, 0.0869, 0.0454, 0.0430, 0.2203, 0.0898])]"
      ]
     },
<<<<<<< HEAD
     "execution_count": 86,
=======
     "execution_count": 53,
>>>>>>> 1cd3dc1 (stage 2 complete)
     "metadata": {},
     "output_type": "execute_result"
    }
   ],
   "source": [
    "# Function to get probabilities with scaled logits\n",
    "def softmax_with_temprature(logits, temprature):\n",
    "    # Getting the scaled logits\n",
    "    scaled_logits = logits / temprature\n",
    "    probabilities = torch.softmax(scaled_logits, dim=-1)\n",
    "    return probabilities\n",
    "\n",
    "# Getting the probabilities across different tempratures\n",
    "tempratures = [1, 0.1, 5] # Normal, higher confidence(sharper distribution), lower confidence(uniform distribution)\n",
    "# Getting the probabilities\n",
    "scaled_probabilities = [softmax_with_temprature(next_token_logits, T) for T in tempratures]\n",
    "scaled_probabilities"
   ]
  },
  {
   "cell_type": "code",
<<<<<<< HEAD
   "execution_count": 87,
=======
   "execution_count": 54,
>>>>>>> 1cd3dc1 (stage 2 complete)
   "id": "cc66826a-04f8-4a02-99d0-859fe4c1b757",
   "metadata": {},
   "outputs": [
    {
     "data": {
      "image/png": "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",
      "text/plain": [
       "<Figure size 640x480 with 1 Axes>"
      ]
     },
     "metadata": {},
     "output_type": "display_data"
    }
   ],
   "source": [
    "import matplotlib.pyplot as plt\n",
    "\n",
    "color = [\"red\", \"green\", \"blue\"]\n",
    "bar_width = 0.25\n",
    "\n",
    "for i, probas in enumerate(scaled_probabilities):\n",
    "    for j, prob_val in enumerate(probas):\n",
    "        plt.bar(x=j + i * bar_width, height=prob_val, color=color[i], width=bar_width, label=f\"Temp {tempratures[i]}\" if j == 0 else \"\")\n",
    "\n",
    "plt.xticks(ticks=[r + bar_width for r in range(len(scaled_probabilities[0]))], labels=vocab, rotation=90)\n",
    "plt.legend()\n",
    "plt.xlabel(\"Tokens\")\n",
    "plt.ylabel(\"Probability\")\n",
    "plt.title(\"Token Probabilities by Temperature\")\n",
    "plt.show()\n"
   ]
  },
  {
   "cell_type": "markdown",
   "id": "c9ef51fd-bcb2-4865-86e5-2dd687edc5ac",
   "metadata": {},
   "source": [
    "## 2. Top-K sampling\n",
    "\n",
    "- Restricts the sampling to the top k positions"
   ]
  },
  {
   "cell_type": "code",
<<<<<<< HEAD
   "execution_count": 88,
=======
   "execution_count": 55,
>>>>>>> 1cd3dc1 (stage 2 complete)
   "id": "554ed577-ae85-4c5b-80c0-79f196d6551f",
   "metadata": {},
   "outputs": [
    {
     "data": {
      "text/plain": [
       "(tensor([6.7500, 6.2800, 4.5100]), tensor([3, 7, 0]))"
      ]
     },
<<<<<<< HEAD
     "execution_count": 88,
=======
     "execution_count": 55,
>>>>>>> 1cd3dc1 (stage 2 complete)
     "metadata": {},
     "output_type": "execute_result"
    }
   ],
   "source": [
    "# Testing it with some logits\n",
    "\n",
    "# Setting the number of top-k positions\n",
    "top_k = 3\n",
    "# Getting the top logits and positions - and logits are sorted\n",
    "top_logits, top_positions = torch.topk(input=next_token_logits,k=top_k)\n",
    "top_logits, top_positions"
   ]
  },
  {
   "cell_type": "code",
<<<<<<< HEAD
   "execution_count": 89,
=======
   "execution_count": 56,
>>>>>>> 1cd3dc1 (stage 2 complete)
   "id": "73a683eb-8871-4ab4-bdf0-e16f7c19343b",
   "metadata": {},
   "outputs": [
    {
     "data": {
      "text/plain": [
       "tensor([4.5100,   -inf,   -inf, 6.7500,   -inf,   -inf,   -inf, 6.2800, 1.7900])"
      ]
     },
<<<<<<< HEAD
     "execution_count": 89,
=======
     "execution_count": 56,
>>>>>>> 1cd3dc1 (stage 2 complete)
     "metadata": {},
     "output_type": "execute_result"
    }
   ],
   "source": [
    "# Replacing the positions not in in top-k with -infinity\n",
    "\n",
    "new_logits = torch.where(\n",
    "    condition = next_token_logits < next_token_logits[-1],\n",
    "    input = torch.tensor(-torch.inf),\n",
    "    other = next_token_logits\n",
    ")\n",
    "new_logits"
   ]
  },
  {
   "cell_type": "markdown",
   "id": "853ccb2d-e9fe-47bc-abde-7ce302623408",
   "metadata": {},
   "source": [
    "## 3. Merging temprature scaling and top-k sampling"
   ]
  },
  {
   "cell_type": "code",
<<<<<<< HEAD
   "execution_count": 107,
=======
   "execution_count": 57,
>>>>>>> 1cd3dc1 (stage 2 complete)
   "id": "20f69456-9add-487f-9328-a8730703415b",
   "metadata": {},
   "outputs": [],
   "source": [
    "def generate(model, idx, max_new_tokens, context_size, temp=0.0, top_k=None, eos_id=None):\n",
    "    for _ in range(max_new_tokens):\n",
    "        # Slicing to context\n",
    "        idx_cond = idx[:, -context_size:]\n",
    "        # Getting the logits\n",
    "        with torch.no_grad():\n",
    "            logits = model(idx_cond)\n",
    "        # Getting the logits for the last prediction task\n",
    "        logits = logits[:, -1, :]\n",
    "        # Applying top-k sampling\n",
    "        if top_k is not None:\n",
    "            top_logits, _ = torch.topk(input=logits, k=top_k, dim=-1)\n",
    "            # Getting the smallest top logit value - [b, logits]\n",
    "            min_val = top_logits[-1].min()\n",
    "            # -Infinity masking\n",
    "            logits = torch.where(\n",
    "                condition = logits < min_val,\n",
    "                input = torch.tensor(-torch.inf).to(logits.device),\n",
    "                other = logits\n",
    "            )\n",
    "        # Applying temprature scaling\n",
    "        if temp > 0.0:\n",
    "           logits = logits / temp\n",
    "           # Applying softmax\n",
    "           probabilities = torch.softmax(logits, dim=-1)\n",
    "           # Getting the next token\n",
    "           idx_next = torch.multinomial(probabilities, num_samples=1)\n",
    "        # If temprature is None - use argmax    \n",
    "        else:\n",
    "            probabilities = torch.softmax(logits, dim=-1)\n",
    "            idx_next = torch.argmax(probabilities, dim=-1, keepdim=True)\n",
    "        # If end of sequence token is encountered end sequence early    \n",
    "        if idx_next == eos_id:\n",
    "            break\n",
    "        # Updating the idx - input\n",
    "        idx = torch.cat((idx, idx_next), dim=-1)\n",
    "    # Returning the initial plus predicted tokens    \n",
    "    return idx    "
   ]
  },
  {
   "cell_type": "markdown",
   "id": "a1dd0219-060a-4952-b29c-294d30f52a8a",
   "metadata": {},
   "source": [
    "## 4. Comparing generation with decoding strategies and without decoding strategies"
   ]
  },
  {
   "cell_type": "code",
<<<<<<< HEAD
   "execution_count": 108,
=======
   "execution_count": 58,
>>>>>>> 1cd3dc1 (stage 2 complete)
   "id": "c30e0498-e9cc-48b4-a33e-8070abc426c7",
   "metadata": {},
   "outputs": [
    {
     "data": {
      "text/plain": [
       "tensor([[6109, 3626, 6100,  345]])"
      ]
     },
<<<<<<< HEAD
     "execution_count": 108,
=======
     "execution_count": 58,
>>>>>>> 1cd3dc1 (stage 2 complete)
     "metadata": {},
     "output_type": "execute_result"
    }
   ],
   "source": [
    "# Getting the token ids for our prediction task\n",
    "\n",
    "sample_text = \"Every effort moves you\"\n",
    "token_ids = encoder(sample_text, tokenizer)\n",
    "token_ids"
   ]
  },
  {
   "cell_type": "code",
<<<<<<< HEAD
   "execution_count": 114,
=======
   "execution_count": 59,
>>>>>>> 1cd3dc1 (stage 2 complete)
   "id": "8b19e04c-2f54-4f85-9713-746f1fa63cc2",
   "metadata": {},
   "outputs": [],
   "source": [
    "# Getting the output with decoding strategies and without decoding strategies\n",
    "\n",
    "output1 = generate_tokens_simple(\n",
    "    model = model, \n",
    "    idx = token_ids,\n",
    "    max_num_tokens=40,\n",
    "    context_size = GPT_Config_124M[\"context_length\"],\n",
    ")\n",
    "output2 = generate(\n",
    "    model = model,\n",
    "    idx = token_ids,\n",
    "    max_new_tokens=40,\n",
    "    context_size=GPT_Config_124M[\"context_length\"],\n",
    "    top_k=25,\n",
    "    temp=1.4\n",
    ")    "
   ]
  },
  {
   "cell_type": "code",
<<<<<<< HEAD
   "execution_count": 118,
=======
   "execution_count": 60,
>>>>>>> 1cd3dc1 (stage 2 complete)
   "id": "d4c5811b-f53c-46d8-a6c2-ee0878474a82",
   "metadata": {},
   "outputs": [
    {
     "data": {
      "text/plain": [
       "'Every effort moves you?\"\\n\\n\\n\\n\\n\\n\\n\\n\\n\\n\\n\\n\\n\\n\\n\\n\\n\\n\\n\\n\\n\\n\\n\\n\\n\\n\\n\\n\\n\\n\\n\\n\\n\\n\\n\\n\\n\\n\\n'"
      ]
     },
<<<<<<< HEAD
     "execution_count": 118,
=======
     "execution_count": 60,
>>>>>>> 1cd3dc1 (stage 2 complete)
     "metadata": {},
     "output_type": "execute_result"
    }
   ],
   "source": [
    "# Wthout decoding strategy\n",
    "\n",
    "decoder(output1)"
   ]
  },
  {
   "cell_type": "code",
<<<<<<< HEAD
   "execution_count": 119,
=======
   "execution_count": 61,
>>>>>>> 1cd3dc1 (stage 2 complete)
   "id": "62bf9373-b39c-42e3-8b3f-44dc33873a87",
   "metadata": {},
   "outputs": [
    {
     "data": {
      "text/plain": [
<<<<<<< HEAD
       "'Every effort moves you thought Jack Gisburn For Mrs. Gisburn--as such--had not Poor Jack Gisburn! The women had made him-- just because she was _not_ interesting--if I'"
      ]
     },
     "execution_count": 119,
=======
       "'Every effort moves you?\"\\n\\n\\n\\n\\nI glanced after him, deprec. Stroud so when she began to stammer something about her poverty. Gisburn_ drawing-pan\\'s at the sketch'"
      ]
     },
     "execution_count": 61,
>>>>>>> 1cd3dc1 (stage 2 complete)
     "metadata": {},
     "output_type": "execute_result"
    }
   ],
   "source": [
    "# With decoding strategies\n",
    "\n",
    "decoder(output2)"
   ]
<<<<<<< HEAD
=======
  },
  {
   "cell_type": "markdown",
   "id": "a2d56c97-574e-4509-9685-8bc8984ac910",
   "metadata": {},
   "source": [
    "## Loading and Saving model weights\n",
    "\n",
    "- **state dictionary - maps each layer to its parameter tensor**"
   ]
  },
  {
   "cell_type": "code",
   "execution_count": 62,
   "id": "23274706-6800-4602-a0f0-65b605b0ef69",
   "metadata": {},
   "outputs": [
    {
     "data": {
      "text/plain": [
       "<bound method Module.state_dict of GPTModel(\n",
       "  (tok_emb): Embedding(50257, 768)\n",
       "  (pos_emb): Embedding(256, 768)\n",
       "  (drop_emb): Dropout(p=0.0, inplace=False)\n",
       "  (transformer_blocks): Sequential(\n",
       "    (0): TransformerBlock(\n",
       "      (layerNorm1): LayerNorm()\n",
       "      (layerNorm2): LayerNorm()\n",
       "      (drop_shortcut): Dropout(p=0.0, inplace=False)\n",
       "      (attention): MultiHeadAttention(\n",
       "        (w_key): Linear(in_features=768, out_features=768, bias=False)\n",
       "        (w_query): Linear(in_features=768, out_features=768, bias=False)\n",
       "        (w_value): Linear(in_features=768, out_features=768, bias=False)\n",
       "        (out_proj): Linear(in_features=768, out_features=768, bias=True)\n",
       "        (dropout): Dropout(p=0.0, inplace=False)\n",
       "      )\n",
       "      (feed_forward): FeedForward(\n",
       "        (layers): Sequential(\n",
       "          (0): Linear(in_features=768, out_features=3072, bias=True)\n",
       "          (1): GELUActivation()\n",
       "          (2): Linear(in_features=3072, out_features=768, bias=True)\n",
       "        )\n",
       "      )\n",
       "    )\n",
       "    (1): TransformerBlock(\n",
       "      (layerNorm1): LayerNorm()\n",
       "      (layerNorm2): LayerNorm()\n",
       "      (drop_shortcut): Dropout(p=0.0, inplace=False)\n",
       "      (attention): MultiHeadAttention(\n",
       "        (w_key): Linear(in_features=768, out_features=768, bias=False)\n",
       "        (w_query): Linear(in_features=768, out_features=768, bias=False)\n",
       "        (w_value): Linear(in_features=768, out_features=768, bias=False)\n",
       "        (out_proj): Linear(in_features=768, out_features=768, bias=True)\n",
       "        (dropout): Dropout(p=0.0, inplace=False)\n",
       "      )\n",
       "      (feed_forward): FeedForward(\n",
       "        (layers): Sequential(\n",
       "          (0): Linear(in_features=768, out_features=3072, bias=True)\n",
       "          (1): GELUActivation()\n",
       "          (2): Linear(in_features=3072, out_features=768, bias=True)\n",
       "        )\n",
       "      )\n",
       "    )\n",
       "    (2): TransformerBlock(\n",
       "      (layerNorm1): LayerNorm()\n",
       "      (layerNorm2): LayerNorm()\n",
       "      (drop_shortcut): Dropout(p=0.0, inplace=False)\n",
       "      (attention): MultiHeadAttention(\n",
       "        (w_key): Linear(in_features=768, out_features=768, bias=False)\n",
       "        (w_query): Linear(in_features=768, out_features=768, bias=False)\n",
       "        (w_value): Linear(in_features=768, out_features=768, bias=False)\n",
       "        (out_proj): Linear(in_features=768, out_features=768, bias=True)\n",
       "        (dropout): Dropout(p=0.0, inplace=False)\n",
       "      )\n",
       "      (feed_forward): FeedForward(\n",
       "        (layers): Sequential(\n",
       "          (0): Linear(in_features=768, out_features=3072, bias=True)\n",
       "          (1): GELUActivation()\n",
       "          (2): Linear(in_features=3072, out_features=768, bias=True)\n",
       "        )\n",
       "      )\n",
       "    )\n",
       "    (3): TransformerBlock(\n",
       "      (layerNorm1): LayerNorm()\n",
       "      (layerNorm2): LayerNorm()\n",
       "      (drop_shortcut): Dropout(p=0.0, inplace=False)\n",
       "      (attention): MultiHeadAttention(\n",
       "        (w_key): Linear(in_features=768, out_features=768, bias=False)\n",
       "        (w_query): Linear(in_features=768, out_features=768, bias=False)\n",
       "        (w_value): Linear(in_features=768, out_features=768, bias=False)\n",
       "        (out_proj): Linear(in_features=768, out_features=768, bias=True)\n",
       "        (dropout): Dropout(p=0.0, inplace=False)\n",
       "      )\n",
       "      (feed_forward): FeedForward(\n",
       "        (layers): Sequential(\n",
       "          (0): Linear(in_features=768, out_features=3072, bias=True)\n",
       "          (1): GELUActivation()\n",
       "          (2): Linear(in_features=3072, out_features=768, bias=True)\n",
       "        )\n",
       "      )\n",
       "    )\n",
       "    (4): TransformerBlock(\n",
       "      (layerNorm1): LayerNorm()\n",
       "      (layerNorm2): LayerNorm()\n",
       "      (drop_shortcut): Dropout(p=0.0, inplace=False)\n",
       "      (attention): MultiHeadAttention(\n",
       "        (w_key): Linear(in_features=768, out_features=768, bias=False)\n",
       "        (w_query): Linear(in_features=768, out_features=768, bias=False)\n",
       "        (w_value): Linear(in_features=768, out_features=768, bias=False)\n",
       "        (out_proj): Linear(in_features=768, out_features=768, bias=True)\n",
       "        (dropout): Dropout(p=0.0, inplace=False)\n",
       "      )\n",
       "      (feed_forward): FeedForward(\n",
       "        (layers): Sequential(\n",
       "          (0): Linear(in_features=768, out_features=3072, bias=True)\n",
       "          (1): GELUActivation()\n",
       "          (2): Linear(in_features=3072, out_features=768, bias=True)\n",
       "        )\n",
       "      )\n",
       "    )\n",
       "    (5): TransformerBlock(\n",
       "      (layerNorm1): LayerNorm()\n",
       "      (layerNorm2): LayerNorm()\n",
       "      (drop_shortcut): Dropout(p=0.0, inplace=False)\n",
       "      (attention): MultiHeadAttention(\n",
       "        (w_key): Linear(in_features=768, out_features=768, bias=False)\n",
       "        (w_query): Linear(in_features=768, out_features=768, bias=False)\n",
       "        (w_value): Linear(in_features=768, out_features=768, bias=False)\n",
       "        (out_proj): Linear(in_features=768, out_features=768, bias=True)\n",
       "        (dropout): Dropout(p=0.0, inplace=False)\n",
       "      )\n",
       "      (feed_forward): FeedForward(\n",
       "        (layers): Sequential(\n",
       "          (0): Linear(in_features=768, out_features=3072, bias=True)\n",
       "          (1): GELUActivation()\n",
       "          (2): Linear(in_features=3072, out_features=768, bias=True)\n",
       "        )\n",
       "      )\n",
       "    )\n",
       "    (6): TransformerBlock(\n",
       "      (layerNorm1): LayerNorm()\n",
       "      (layerNorm2): LayerNorm()\n",
       "      (drop_shortcut): Dropout(p=0.0, inplace=False)\n",
       "      (attention): MultiHeadAttention(\n",
       "        (w_key): Linear(in_features=768, out_features=768, bias=False)\n",
       "        (w_query): Linear(in_features=768, out_features=768, bias=False)\n",
       "        (w_value): Linear(in_features=768, out_features=768, bias=False)\n",
       "        (out_proj): Linear(in_features=768, out_features=768, bias=True)\n",
       "        (dropout): Dropout(p=0.0, inplace=False)\n",
       "      )\n",
       "      (feed_forward): FeedForward(\n",
       "        (layers): Sequential(\n",
       "          (0): Linear(in_features=768, out_features=3072, bias=True)\n",
       "          (1): GELUActivation()\n",
       "          (2): Linear(in_features=3072, out_features=768, bias=True)\n",
       "        )\n",
       "      )\n",
       "    )\n",
       "    (7): TransformerBlock(\n",
       "      (layerNorm1): LayerNorm()\n",
       "      (layerNorm2): LayerNorm()\n",
       "      (drop_shortcut): Dropout(p=0.0, inplace=False)\n",
       "      (attention): MultiHeadAttention(\n",
       "        (w_key): Linear(in_features=768, out_features=768, bias=False)\n",
       "        (w_query): Linear(in_features=768, out_features=768, bias=False)\n",
       "        (w_value): Linear(in_features=768, out_features=768, bias=False)\n",
       "        (out_proj): Linear(in_features=768, out_features=768, bias=True)\n",
       "        (dropout): Dropout(p=0.0, inplace=False)\n",
       "      )\n",
       "      (feed_forward): FeedForward(\n",
       "        (layers): Sequential(\n",
       "          (0): Linear(in_features=768, out_features=3072, bias=True)\n",
       "          (1): GELUActivation()\n",
       "          (2): Linear(in_features=3072, out_features=768, bias=True)\n",
       "        )\n",
       "      )\n",
       "    )\n",
       "    (8): TransformerBlock(\n",
       "      (layerNorm1): LayerNorm()\n",
       "      (layerNorm2): LayerNorm()\n",
       "      (drop_shortcut): Dropout(p=0.0, inplace=False)\n",
       "      (attention): MultiHeadAttention(\n",
       "        (w_key): Linear(in_features=768, out_features=768, bias=False)\n",
       "        (w_query): Linear(in_features=768, out_features=768, bias=False)\n",
       "        (w_value): Linear(in_features=768, out_features=768, bias=False)\n",
       "        (out_proj): Linear(in_features=768, out_features=768, bias=True)\n",
       "        (dropout): Dropout(p=0.0, inplace=False)\n",
       "      )\n",
       "      (feed_forward): FeedForward(\n",
       "        (layers): Sequential(\n",
       "          (0): Linear(in_features=768, out_features=3072, bias=True)\n",
       "          (1): GELUActivation()\n",
       "          (2): Linear(in_features=3072, out_features=768, bias=True)\n",
       "        )\n",
       "      )\n",
       "    )\n",
       "    (9): TransformerBlock(\n",
       "      (layerNorm1): LayerNorm()\n",
       "      (layerNorm2): LayerNorm()\n",
       "      (drop_shortcut): Dropout(p=0.0, inplace=False)\n",
       "      (attention): MultiHeadAttention(\n",
       "        (w_key): Linear(in_features=768, out_features=768, bias=False)\n",
       "        (w_query): Linear(in_features=768, out_features=768, bias=False)\n",
       "        (w_value): Linear(in_features=768, out_features=768, bias=False)\n",
       "        (out_proj): Linear(in_features=768, out_features=768, bias=True)\n",
       "        (dropout): Dropout(p=0.0, inplace=False)\n",
       "      )\n",
       "      (feed_forward): FeedForward(\n",
       "        (layers): Sequential(\n",
       "          (0): Linear(in_features=768, out_features=3072, bias=True)\n",
       "          (1): GELUActivation()\n",
       "          (2): Linear(in_features=3072, out_features=768, bias=True)\n",
       "        )\n",
       "      )\n",
       "    )\n",
       "    (10): TransformerBlock(\n",
       "      (layerNorm1): LayerNorm()\n",
       "      (layerNorm2): LayerNorm()\n",
       "      (drop_shortcut): Dropout(p=0.0, inplace=False)\n",
       "      (attention): MultiHeadAttention(\n",
       "        (w_key): Linear(in_features=768, out_features=768, bias=False)\n",
       "        (w_query): Linear(in_features=768, out_features=768, bias=False)\n",
       "        (w_value): Linear(in_features=768, out_features=768, bias=False)\n",
       "        (out_proj): Linear(in_features=768, out_features=768, bias=True)\n",
       "        (dropout): Dropout(p=0.0, inplace=False)\n",
       "      )\n",
       "      (feed_forward): FeedForward(\n",
       "        (layers): Sequential(\n",
       "          (0): Linear(in_features=768, out_features=3072, bias=True)\n",
       "          (1): GELUActivation()\n",
       "          (2): Linear(in_features=3072, out_features=768, bias=True)\n",
       "        )\n",
       "      )\n",
       "    )\n",
       "    (11): TransformerBlock(\n",
       "      (layerNorm1): LayerNorm()\n",
       "      (layerNorm2): LayerNorm()\n",
       "      (drop_shortcut): Dropout(p=0.0, inplace=False)\n",
       "      (attention): MultiHeadAttention(\n",
       "        (w_key): Linear(in_features=768, out_features=768, bias=False)\n",
       "        (w_query): Linear(in_features=768, out_features=768, bias=False)\n",
       "        (w_value): Linear(in_features=768, out_features=768, bias=False)\n",
       "        (out_proj): Linear(in_features=768, out_features=768, bias=True)\n",
       "        (dropout): Dropout(p=0.0, inplace=False)\n",
       "      )\n",
       "      (feed_forward): FeedForward(\n",
       "        (layers): Sequential(\n",
       "          (0): Linear(in_features=768, out_features=3072, bias=True)\n",
       "          (1): GELUActivation()\n",
       "          (2): Linear(in_features=3072, out_features=768, bias=True)\n",
       "        )\n",
       "      )\n",
       "    )\n",
       "  )\n",
       "  (final_norm): LayerNorm()\n",
       "  (out_head): Linear(in_features=768, out_features=50257, bias=False)\n",
       ")>"
      ]
     },
     "execution_count": 62,
     "metadata": {},
     "output_type": "execute_result"
    }
   ],
   "source": [
    "# Checking the model state dictionary\n",
    "\n",
    "model.state_dict"
   ]
  },
  {
   "cell_type": "code",
   "execution_count": 63,
   "id": "4618bd98-4565-451c-a593-5b6c543f1777",
   "metadata": {},
   "outputs": [],
   "source": [
    "# Saving the model's state dictionary\n",
    "\n",
    "torch.save(model.state_dict(), \"model1.pth\")"
   ]
  },
  {
   "cell_type": "code",
   "execution_count": 69,
   "id": "c4a053c6-6ada-4e02-a549-e3f25a57dd41",
   "metadata": {},
   "outputs": [
    {
     "name": "stdout",
     "output_type": "stream",
     "text": [
      "Model mismatch found\n",
      "Model mismatch found\n",
      "Models match perfectly\n",
      "Models match perfectly\n",
      "Model mismatch found\n",
      "Model mismatch found\n",
      "Models match perfectly\n",
      "Model mismatch found\n",
      "Model mismatch found\n",
      "Model mismatch found\n",
      "Model mismatch found\n",
      "Model mismatch found\n",
      "Model mismatch found\n",
      "Model mismatch found\n",
      "Model mismatch found\n",
      "Model mismatch found\n",
      "Models match perfectly\n",
      "Models match perfectly\n",
      "Model mismatch found\n",
      "Model mismatch found\n",
      "Models match perfectly\n",
      "Model mismatch found\n",
      "Model mismatch found\n",
      "Model mismatch found\n",
      "Model mismatch found\n",
      "Model mismatch found\n",
      "Model mismatch found\n",
      "Model mismatch found\n",
      "Model mismatch found\n",
      "Model mismatch found\n",
      "Models match perfectly\n",
      "Models match perfectly\n",
      "Model mismatch found\n",
      "Model mismatch found\n",
      "Models match perfectly\n",
      "Model mismatch found\n",
      "Model mismatch found\n",
      "Model mismatch found\n",
      "Model mismatch found\n",
      "Model mismatch found\n",
      "Model mismatch found\n",
      "Model mismatch found\n",
      "Model mismatch found\n",
      "Model mismatch found\n",
      "Models match perfectly\n",
      "Models match perfectly\n",
      "Model mismatch found\n",
      "Model mismatch found\n",
      "Models match perfectly\n",
      "Model mismatch found\n",
      "Model mismatch found\n",
      "Model mismatch found\n",
      "Model mismatch found\n",
      "Model mismatch found\n",
      "Model mismatch found\n",
      "Model mismatch found\n",
      "Model mismatch found\n",
      "Model mismatch found\n",
      "Models match perfectly\n",
      "Models match perfectly\n",
      "Model mismatch found\n",
      "Model mismatch found\n",
      "Models match perfectly\n",
      "Model mismatch found\n",
      "Model mismatch found\n",
      "Model mismatch found\n",
      "Model mismatch found\n",
      "Model mismatch found\n",
      "Model mismatch found\n",
      "Model mismatch found\n",
      "Model mismatch found\n",
      "Model mismatch found\n",
      "Models match perfectly\n",
      "Models match perfectly\n",
      "Model mismatch found\n",
      "Model mismatch found\n",
      "Models match perfectly\n",
      "Model mismatch found\n",
      "Model mismatch found\n",
      "Model mismatch found\n",
      "Model mismatch found\n",
      "Model mismatch found\n",
      "Model mismatch found\n",
      "Model mismatch found\n",
      "Model mismatch found\n",
      "Model mismatch found\n",
      "Models match perfectly\n",
      "Models match perfectly\n",
      "Model mismatch found\n",
      "Model mismatch found\n",
      "Models match perfectly\n",
      "Model mismatch found\n",
      "Model mismatch found\n",
      "Model mismatch found\n",
      "Model mismatch found\n",
      "Model mismatch found\n",
      "Model mismatch found\n",
      "Model mismatch found\n",
      "Model mismatch found\n",
      "Model mismatch found\n",
      "Models match perfectly\n",
      "Models match perfectly\n",
      "Model mismatch found\n",
      "Model mismatch found\n",
      "Models match perfectly\n",
      "Model mismatch found\n",
      "Model mismatch found\n",
      "Model mismatch found\n",
      "Model mismatch found\n",
      "Model mismatch found\n",
      "Model mismatch found\n",
      "Model mismatch found\n",
      "Model mismatch found\n",
      "Model mismatch found\n",
      "Models match perfectly\n",
      "Models match perfectly\n",
      "Model mismatch found\n",
      "Model mismatch found\n",
      "Models match perfectly\n",
      "Model mismatch found\n",
      "Model mismatch found\n",
      "Model mismatch found\n",
      "Model mismatch found\n",
      "Model mismatch found\n",
      "Model mismatch found\n",
      "Model mismatch found\n",
      "Model mismatch found\n",
      "Model mismatch found\n",
      "Models match perfectly\n",
      "Models match perfectly\n",
      "Model mismatch found\n",
      "Model mismatch found\n",
      "Models match perfectly\n",
      "Model mismatch found\n",
      "Model mismatch found\n",
      "Model mismatch found\n",
      "Model mismatch found\n",
      "Model mismatch found\n",
      "Model mismatch found\n",
      "Model mismatch found\n",
      "Model mismatch found\n",
      "Model mismatch found\n",
      "Models match perfectly\n",
      "Models match perfectly\n",
      "Model mismatch found\n",
      "Model mismatch found\n",
      "Models match perfectly\n",
      "Model mismatch found\n",
      "Model mismatch found\n",
      "Model mismatch found\n",
      "Model mismatch found\n",
      "Model mismatch found\n",
      "Model mismatch found\n",
      "Model mismatch found\n",
      "Model mismatch found\n",
      "Model mismatch found\n",
      "Models match perfectly\n",
      "Models match perfectly\n",
      "Model mismatch found\n",
      "Model mismatch found\n",
      "Models match perfectly\n",
      "Model mismatch found\n",
      "Model mismatch found\n",
      "Model mismatch found\n",
      "Model mismatch found\n",
      "Model mismatch found\n",
      "Model mismatch found\n",
      "Model mismatch found\n",
      "Model mismatch found\n",
      "Model mismatch found\n",
      "Model mismatch found\n",
      "Model mismatch found\n",
      "Model mismatch found\n"
     ]
    }
   ],
   "source": [
    "# Instantiating a new model and loading the first models state dictionary\n",
    "\n",
    "model2 = GPTModel(GPT_Config_124M)\n",
    "# Checking if the state dicts for the first and second model match\n",
    "\n",
    "for (k1, v1) , (k2, v2) in zip(model.state_dict().items(), model2.state_dict().items()):\n",
    "    if k1!=k2 or not torch.equal(v1, v2):\n",
    "        print(\"Model mismatch found\")\n",
    "    else:\n",
    "        print(\"Models match perfectly\")"
   ]
  },
  {
   "cell_type": "code",
   "execution_count": 72,
   "id": "a45be0f2-3783-43e6-a9f3-f505632a0a3e",
   "metadata": {},
   "outputs": [
    {
     "name": "stderr",
     "output_type": "stream",
     "text": [
      "C:\\Users\\nyasa\\AppData\\Local\\Temp\\ipykernel_26400\\4167045158.py:3: FutureWarning: You are using `torch.load` with `weights_only=False` (the current default value), which uses the default pickle module implicitly. It is possible to construct malicious pickle data which will execute arbitrary code during unpickling (See https://github.com/pytorch/pytorch/blob/main/SECURITY.md#untrusted-models for more details). In a future release, the default value for `weights_only` will be flipped to `True`. This limits the functions that could be executed during unpickling. Arbitrary objects will no longer be allowed to be loaded via this mode unless they are explicitly allowlisted by the user via `torch.serialization.add_safe_globals`. We recommend you start setting `weights_only=True` for any use case where you don't have full control of the loaded file. Please open an issue on GitHub for any issues related to this experimental feature.\n",
      "  model2.load_state_dict(torch.load(\"model1.pth\"))\n"
     ]
    },
    {
     "name": "stdout",
     "output_type": "stream",
     "text": [
      "Models match perfectly\n",
      "Models match perfectly\n",
      "Models match perfectly\n",
      "Models match perfectly\n",
      "Models match perfectly\n",
      "Models match perfectly\n",
      "Models match perfectly\n",
      "Models match perfectly\n",
      "Models match perfectly\n",
      "Models match perfectly\n",
      "Models match perfectly\n",
      "Models match perfectly\n",
      "Models match perfectly\n",
      "Models match perfectly\n",
      "Models match perfectly\n",
      "Models match perfectly\n",
      "Models match perfectly\n",
      "Models match perfectly\n",
      "Models match perfectly\n",
      "Models match perfectly\n",
      "Models match perfectly\n",
      "Models match perfectly\n",
      "Models match perfectly\n",
      "Models match perfectly\n",
      "Models match perfectly\n",
      "Models match perfectly\n",
      "Models match perfectly\n",
      "Models match perfectly\n",
      "Models match perfectly\n",
      "Models match perfectly\n",
      "Models match perfectly\n",
      "Models match perfectly\n",
      "Models match perfectly\n",
      "Models match perfectly\n",
      "Models match perfectly\n",
      "Models match perfectly\n",
      "Models match perfectly\n",
      "Models match perfectly\n",
      "Models match perfectly\n",
      "Models match perfectly\n",
      "Models match perfectly\n",
      "Models match perfectly\n",
      "Models match perfectly\n",
      "Models match perfectly\n",
      "Models match perfectly\n",
      "Models match perfectly\n",
      "Models match perfectly\n",
      "Models match perfectly\n",
      "Models match perfectly\n",
      "Models match perfectly\n",
      "Models match perfectly\n",
      "Models match perfectly\n",
      "Models match perfectly\n",
      "Models match perfectly\n",
      "Models match perfectly\n",
      "Models match perfectly\n",
      "Models match perfectly\n",
      "Models match perfectly\n",
      "Models match perfectly\n",
      "Models match perfectly\n",
      "Models match perfectly\n",
      "Models match perfectly\n",
      "Models match perfectly\n",
      "Models match perfectly\n",
      "Models match perfectly\n",
      "Models match perfectly\n",
      "Models match perfectly\n",
      "Models match perfectly\n",
      "Models match perfectly\n",
      "Models match perfectly\n",
      "Models match perfectly\n",
      "Models match perfectly\n",
      "Models match perfectly\n",
      "Models match perfectly\n",
      "Models match perfectly\n",
      "Models match perfectly\n",
      "Models match perfectly\n",
      "Models match perfectly\n",
      "Models match perfectly\n",
      "Models match perfectly\n",
      "Models match perfectly\n",
      "Models match perfectly\n",
      "Models match perfectly\n",
      "Models match perfectly\n",
      "Models match perfectly\n",
      "Models match perfectly\n",
      "Models match perfectly\n",
      "Models match perfectly\n",
      "Models match perfectly\n",
      "Models match perfectly\n",
      "Models match perfectly\n",
      "Models match perfectly\n",
      "Models match perfectly\n",
      "Models match perfectly\n",
      "Models match perfectly\n",
      "Models match perfectly\n",
      "Models match perfectly\n",
      "Models match perfectly\n",
      "Models match perfectly\n",
      "Models match perfectly\n",
      "Models match perfectly\n",
      "Models match perfectly\n",
      "Models match perfectly\n",
      "Models match perfectly\n",
      "Models match perfectly\n",
      "Models match perfectly\n",
      "Models match perfectly\n",
      "Models match perfectly\n",
      "Models match perfectly\n",
      "Models match perfectly\n",
      "Models match perfectly\n",
      "Models match perfectly\n",
      "Models match perfectly\n",
      "Models match perfectly\n",
      "Models match perfectly\n",
      "Models match perfectly\n",
      "Models match perfectly\n",
      "Models match perfectly\n",
      "Models match perfectly\n",
      "Models match perfectly\n",
      "Models match perfectly\n",
      "Models match perfectly\n",
      "Models match perfectly\n",
      "Models match perfectly\n",
      "Models match perfectly\n",
      "Models match perfectly\n",
      "Models match perfectly\n",
      "Models match perfectly\n",
      "Models match perfectly\n",
      "Models match perfectly\n",
      "Models match perfectly\n",
      "Models match perfectly\n",
      "Models match perfectly\n",
      "Models match perfectly\n",
      "Models match perfectly\n",
      "Models match perfectly\n",
      "Models match perfectly\n",
      "Models match perfectly\n",
      "Models match perfectly\n",
      "Models match perfectly\n",
      "Models match perfectly\n",
      "Models match perfectly\n",
      "Models match perfectly\n",
      "Models match perfectly\n",
      "Models match perfectly\n",
      "Models match perfectly\n",
      "Models match perfectly\n",
      "Models match perfectly\n",
      "Models match perfectly\n",
      "Models match perfectly\n",
      "Models match perfectly\n",
      "Models match perfectly\n",
      "Models match perfectly\n",
      "Models match perfectly\n",
      "Models match perfectly\n",
      "Models match perfectly\n",
      "Models match perfectly\n",
      "Models match perfectly\n",
      "Models match perfectly\n",
      "Models match perfectly\n",
      "Models match perfectly\n",
      "Models match perfectly\n",
      "Models match perfectly\n",
      "Models match perfectly\n",
      "Models match perfectly\n",
      "Models match perfectly\n",
      "Models match perfectly\n",
      "Models match perfectly\n",
      "Models match perfectly\n",
      "Models match perfectly\n",
      "Models match perfectly\n",
      "Models match perfectly\n",
      "Models match perfectly\n"
     ]
    }
   ],
   "source": [
    "# Loading the state dictionary for the first model into the second \n",
    "\n",
    "model2.load_state_dict(torch.load(\"model1.pth\"))\n",
    "# Checking if models match after loading state dict\n",
    "for (k1, v1) , (k2, v2) in zip(model.state_dict().items(), model2.state_dict().items()):\n",
    "    if k1!=k2 or not torch.equal(v1, v2):\n",
    "        print(\"Model mismatch found\")\n",
    "    else:\n",
    "        print(\"Models match perfectly\")"
   ]
  },
  {
   "cell_type": "code",
   "execution_count": 73,
   "id": "939a13ce-ab65-48a8-9545-f307d789dbfc",
   "metadata": {},
   "outputs": [
    {
     "data": {
      "text/plain": [
       "<bound method Optimizer.state_dict of AdamW (\n",
       "Parameter Group 0\n",
       "    amsgrad: False\n",
       "    betas: (0.9, 0.999)\n",
       "    capturable: False\n",
       "    differentiable: False\n",
       "    eps: 1e-08\n",
       "    foreach: None\n",
       "    fused: None\n",
       "    lr: 0.0004\n",
       "    maximize: False\n",
       "    weight_decay: 0.1\n",
       ")>"
      ]
     },
     "execution_count": 73,
     "metadata": {},
     "output_type": "execute_result"
    }
   ],
   "source": [
    "# Checking the optimizer state dict \n",
    "\n",
    "optimizer.state_dict"
   ]
  },
  {
   "cell_type": "code",
   "execution_count": 74,
   "id": "d3879f56-3736-4fd3-8c5a-06d12678f10e",
   "metadata": {},
   "outputs": [],
   "source": [
    "# Saving the model and optimizer state dict together\n",
    "\n",
    "torch.save({\n",
    "    \"model1_state_dict\": model.state_dict(), \n",
    "    \"optimizer_state_dict\": optimizer.state_dict()}, \"model1_and_optimizer1_state_dict\")"
   ]
  },
  {
   "cell_type": "code",
   "execution_count": null,
   "id": "290ea179-87f8-46a5-b4b3-ce2404b47e7b",
   "metadata": {},
   "outputs": [],
   "source": [
    "torch.optim.A"
   ]
  },
  {
   "cell_type": "code",
   "execution_count": 78,
   "id": "9875851a-1357-4fe7-87b8-fef2b6f8fb11",
   "metadata": {},
   "outputs": [
    {
     "name": "stderr",
     "output_type": "stream",
     "text": [
      "C:\\Users\\nyasa\\AppData\\Local\\Temp\\ipykernel_26400\\93564577.py:3: FutureWarning: You are using `torch.load` with `weights_only=False` (the current default value), which uses the default pickle module implicitly. It is possible to construct malicious pickle data which will execute arbitrary code during unpickling (See https://github.com/pytorch/pytorch/blob/main/SECURITY.md#untrusted-models for more details). In a future release, the default value for `weights_only` will be flipped to `True`. This limits the functions that could be executed during unpickling. Arbitrary objects will no longer be allowed to be loaded via this mode unless they are explicitly allowlisted by the user via `torch.serialization.add_safe_globals`. We recommend you start setting `weights_only=True` for any use case where you don't have full control of the loaded file. Please open an issue on GitHub for any issues related to this experimental feature.\n",
      "  checkpoint = torch.load(\"model1_and_optimizer1_state_dict\")\n"
     ]
    }
   ],
   "source": [
    "# Loading the saved state dictionaries\n",
    "\n",
    "checkpoint = torch.load(\"model1_and_optimizer1_state_dict\")\n",
    "# Creating a new optimizer\n",
    "optimizer3 = torch.optim.AdamW(model.parameters(), lr=0.0004, weight_decay=0.1)\n",
    "model3 = GPTModel(GPT_Config_124M)\n",
    "# Loading the saved stated dictionaries into our instantiations\n",
    "model3.load_state_dict(checkpoint[\"model1_state_dict\"])\n",
    "optimizer.load_state_dict(checkpoint[\"optimizer_state_dict\"])"
   ]
  },
  {
   "cell_type": "code",
   "execution_count": 82,
   "id": "1f2c00a2-3757-49ce-b555-1f1f4fb94b8e",
   "metadata": {},
   "outputs": [
    {
     "name": "stdout",
     "output_type": "stream",
     "text": [
      "Optimizer match\n",
      "Optimizer match\n"
     ]
    }
   ],
   "source": [
    "# Checking if the parameter match - for the optimizer\n",
    "for (k1, v1), (k2, v2) in zip(optimizer.state_dict().items(), optimizer3.state_dict().items()):\n",
    "    if k1 != k2 and not torch.equal(v1, v2):\n",
    "        print(\"Optimizer mismatch\")\n",
    "    else:\n",
    "        print(\"Optimizer match\")"
   ]
  },
  {
   "cell_type": "code",
   "execution_count": null,
   "id": "657b7867-7d4f-4329-9a43-322754a30217",
   "metadata": {},
   "outputs": [],
   "source": []
>>>>>>> 1cd3dc1 (stage 2 complete)
  }
 ],
 "metadata": {
  "kernelspec": {
   "display_name": "Python 3 (ipykernel)",
   "language": "python",
   "name": "python3"
  },
  "language_info": {
   "codemirror_mode": {
    "name": "ipython",
    "version": 3
   },
   "file_extension": ".py",
   "mimetype": "text/x-python",
   "name": "python",
   "nbconvert_exporter": "python",
   "pygments_lexer": "ipython3",
   "version": "3.11.10"
  }
 },
 "nbformat": 4,
 "nbformat_minor": 5
}
