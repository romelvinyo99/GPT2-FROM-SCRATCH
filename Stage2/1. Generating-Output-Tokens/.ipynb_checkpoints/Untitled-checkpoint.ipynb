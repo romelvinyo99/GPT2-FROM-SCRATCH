{
 "cells": [
  {
   "cell_type": "markdown",
   "id": "ddf8d0de-fc76-4446-adae-3e2b59ada6c1",
   "metadata": {},
   "source": [
    "## 1. Transformer Block"
   ]
  },
  {
   "cell_type": "code",
   "execution_count": 2,
   "id": "514ebfbd-b8e6-4a0b-a5f0-d04e26ee4474",
   "metadata": {},
   "outputs": [],
   "source": [
    "import torch\n",
    "from torch import nn"
   ]
  },
  {
   "cell_type": "code",
   "execution_count": 3,
   "id": "bd72d76e-f7b6-47ea-805f-3dd1845402d6",
   "metadata": {},
   "outputs": [],
   "source": [
    "# Defining the GPT configuration settings\n",
    "\n",
    "GPT_Config_124M = {\n",
    "    \"vocab_size\": 50257,\n",
    "    \"context_length\": 256, \n",
    "    \"emb_dim\": 768,\n",
    "    \"n_heads\": 12,\n",
    "    \"n_layers\": 12,\n",
    "    \"dropout_rate\": 0.0,\n",
    "    \"qkv_bias\": False\n",
    "}"
   ]
  },
  {
   "cell_type": "code",
   "execution_count": 4,
   "id": "f6653dad-9e79-445a-9857-4e1c6d473919",
   "metadata": {},
   "outputs": [],
   "source": [
    "# 1. Activation function\n",
    "class GELUActivation(nn.Module):\n",
    "    def __init__(self):\n",
    "        super().__init__()\n",
    "    def forward(self, x):\n",
    "        # Pass the input through the GELU activation - Approximate formula\n",
    "        return 0.5 * x * (1 + torch.tanh(torch.sqrt(torch.tensor(2.0) / torch.pi) * (x + 0.44715 * torch.pow(x, 3))))\n",
    "        \n",
    "# 2. Layer normalization\n",
    "class LayerNorm(nn.Module):\n",
    "    def __init__(self, emb_dim):\n",
    "        super().__init__()\n",
    "        # Defining the epsilon -  small constant added to the variance to prevent zero division - undefined - limits\n",
    "        self.eps = 1e-5\n",
    "        # Defining the scaling and shifting parameters - trainable - better results\n",
    "        self.shift = nn.Parameter(torch.zeros(emb_dim))\n",
    "        self.scale = nn.Parameter(torch.ones(emb_dim))\n",
    "    # Forward pass\n",
    "    def forward(self, x):\n",
    "        # Getting the mean and variance of each row\n",
    "        mean = x.mean(dim=-1, keepdim=True)\n",
    "        variance = x.var(dim=-1, keepdim=True)\n",
    "        # Getting the normalization values\n",
    "        norm_x = (x - mean) / torch.sqrt(variance + self.eps)\n",
    "        # Returning the normalized values of x shifted and scaled - finetuning parameters\n",
    "        return self.scale * norm_x + self.shift\n",
    "        \n",
    "# 3. Feed forward        \n",
    "class FeedForward(nn.Module):\n",
    "    def __init__(self, cfg):\n",
    "        super().__init__()\n",
    "        self.layers = nn.Sequential(\n",
    "            nn.Linear(cfg[\"emb_dim\"], cfg[\"emb_dim\"]*4),\n",
    "            GELUActivation(),\n",
    "            nn.Linear(cfg[\"emb_dim\"]*4, cfg[\"emb_dim\"])\n",
    "        )\n",
    "    def forward(self, x):\n",
    "        return self.layers(x)\n",
    "# 4. Attention Mechanism\n",
    "# Creating the multi-head attention compact class\n",
    "import torch\n",
    "from torch import nn\n",
    "\n",
    "class MultiHeadAttention(nn.Module):\n",
    "    def __init__(self, d_in, d_out, num_heads, context_length, dropout_rate, bias_units=False):\n",
    "        super().__init__()\n",
    "        assert d_out % num_heads == 0, \"dimensions out must be divisible by number of heads\"\n",
    "        # Getting the head dimensions\n",
    "        self.d_out = d_out\n",
    "        self.num_heads = num_heads\n",
    "        self.head_dim = d_out // num_heads\n",
    "        # Initializing the key query value weights - (d_out, d_out)\n",
    "        self.w_key = nn.Linear(d_in, d_out, bias=bias_units)\n",
    "        self.w_query = nn.Linear(d_in, d_out, bias=bias_units)\n",
    "        self.w_value = nn.Linear(d_in, d_out, bias=bias_units)\n",
    "        # Initializing the final projection layer - optional - (d_out, d_out)\n",
    "        self.out_proj = nn.Linear(d_out, d_out)\n",
    "        # Creating the masking layer\n",
    "        self.register_buffer(\"mask\", torch.triu(\n",
    "            torch.ones(context_length, context_length),\n",
    "            diagonal = 1\n",
    "        ))\n",
    "        # Creating the dropout layer\n",
    "        self.dropout = nn.Dropout(dropout_rate)\n",
    "    # Forward pass    \n",
    "    def forward(self, x):\n",
    "        # Exploding the input shape\n",
    "        b, num_tokens, d_out = x.shape\n",
    "        # Getting the key query value matrices (b, num_tokens, d_out)\n",
    "        keys = self.w_key(x)\n",
    "        queries = self.w_query(x)\n",
    "        values =  self.w_value(x)\n",
    "        # Reshaping the key query value matrices - (b, num_tokens, num_head, head_dim)\n",
    "        keys = keys.view(b, num_tokens, self.num_heads, self.head_dim)\n",
    "        queries = queries.view(b, num_tokens, self.num_heads, self.head_dim)\n",
    "        values = values.view(b, num_tokens, self.num_heads, self.head_dim)\n",
    "        # Grouping by number of heads - (b, num_heads, num_tokens, head_dim)\n",
    "        keys = keys.transpose(1, 2)\n",
    "        queries = queries.transpose(1, 2)\n",
    "        values = values.transpose(1, 2)\n",
    "        # Getting the attention scores - (b, num_heads, num_tokens, num_tokens)\n",
    "        attention_scores = queries @ keys.transpose(2, 3)\n",
    "        # Masking the attention scores\n",
    "        attention_scores.masked_fill_(\n",
    "            self.mask.bool()[:num_tokens, :num_tokens],\n",
    "            -torch.inf\n",
    "        )\n",
    "        # Scaling the attention scores\n",
    "        attention_scores = attention_scores / keys.shape[-1]**0.5\n",
    "        # Getting the attention weights\n",
    "        attention_weights = torch.softmax(attention_scores, dim=-1)\n",
    "        # Implementing the dropout layer\n",
    "        attention_weights = self.dropout(attention_weights)\n",
    "        # Getting the context vector - (b, num_heads, num_tokens, head_dim)\n",
    "        context_vector = attention_weights @ values\n",
    "        # Reshaping the context vectors - (b, num_tokens, num_heads, head_dim)\n",
    "        context_vector = context_vector.transpose(1, 2)\n",
    "        # Combining the result of mutiple heads - d_out = num_heads * head_dim\n",
    "        context_vector = context_vector.contiguous().view(b, num_tokens, d_out)\n",
    "        # Passing the final context vector into the projection layer - optional\n",
    "        context_vector = self.out_proj(context_vector)\n",
    "        return context_vector"
   ]
  },
  {
   "cell_type": "code",
   "execution_count": 5,
   "id": "9c960748-01aa-4d59-9950-779e47f0a74a",
   "metadata": {},
   "outputs": [],
   "source": [
    "# NB: Input = [b, num_tokens, 768]\n",
    "\n",
    "class TransformerBlock(nn.Module):\n",
    "    def __init__(self, cfg):\n",
    "        super().__init__()\n",
    "        # Defining the normalization layers\n",
    "        self.layerNorm1 = LayerNorm(cfg[\"emb_dim\"])\n",
    "        self.layerNorm2 = LayerNorm(cfg[\"emb_dim\"])\n",
    "        # Defining the dropout layers\n",
    "        self.drop_shortcut = nn.Dropout(cfg[\"dropout_rate\"])\n",
    "        # Defining the Multi-Head Attention layer\n",
    "        self.attention = MultiHeadAttention(\n",
    "            d_in = cfg[\"emb_dim\"],\n",
    "            d_out = cfg[\"emb_dim\"],\n",
    "            num_heads = cfg[\"n_heads\"],\n",
    "            context_length = cfg[\"context_length\"],\n",
    "            dropout_rate = cfg[\"dropout_rate\"],\n",
    "            bias_units = cfg[\"qkv_bias\"]\n",
    "        )\n",
    "        # Deefining the feed forward layer\n",
    "        self.feed_forward = FeedForward(cfg)\n",
    "    def forward(self, x):\n",
    "        # Shortcut connection for attention block\n",
    "        shortcut = x\n",
    "        x = self.layerNorm1(x)\n",
    "        x = self.attention(x)\n",
    "        x = self.drop_shortcut(x)\n",
    "        # Add the original input the output \n",
    "        x = x +  shortcut\n",
    "        # Shortcut connection for the \n",
    "        x = shortcut\n",
    "        x = self.layerNorm2(x)\n",
    "        x = self.feed_forward(x)\n",
    "        x = self.drop_shortcut(x)\n",
    "        # Add the original output\n",
    "        x = x + shortcut\n",
    "        return x"
   ]
  },
  {
   "cell_type": "markdown",
   "id": "8ed9ddb0-d72f-4412-9b62-b13b473b0def",
   "metadata": {},
   "source": [
    "## 2. GPT-Model"
   ]
  },
  {
   "cell_type": "code",
   "execution_count": 6,
   "id": "2a532b71-add0-4c6a-95fb-b8e9ad5d2023",
   "metadata": {},
   "outputs": [],
   "source": [
    "class GPTModel(nn.Module):\n",
    "    def __init__(self, cfg):\n",
    "        super().__init__()\n",
    "        # Defining the token embedding layer\n",
    "        self.tok_emb = nn.Embedding(cfg[\"vocab_size\"], cfg[\"emb_dim\"])\n",
    "        # Defining the positional embedding layer\n",
    "        self.pos_emb = nn.Embedding(cfg[\"context_length\"], cfg[\"emb_dim\"])\n",
    "        # Defining the dropout layer \n",
    "        self.drop_emb = nn.Dropout(cfg[\"dropout_rate\"])\n",
    "        # Defining the transformer blocks\n",
    "        self.transformer_blocks = nn.Sequential(\n",
    "            *[TransformerBlock(cfg) for _ in range(cfg[\"n_layers\"])]\n",
    "        )\n",
    "        # Defining the final normalization layer\n",
    "        self.final_norm = LayerNorm(cfg[\"emb_dim\"])\n",
    "        # Defining the final linear layer\n",
    "        self.out_head = nn.Linear(cfg[\"emb_dim\"], cfg[\"vocab_size\"], bias=False)\n",
    "    # Forward pass\n",
    "    def forward(self, in_idx):\n",
    "        # Explosion of shape\n",
    "        batch_size, seq_len = in_idx.shape\n",
    "        # Getting the token embeddings\n",
    "        token_embeddings = self.tok_emb(in_idx)\n",
    "        # Getting the positional embeddings\n",
    "        positional_embeddings = self.pos_emb(torch.arange(seq_len, device=in_idx.device))\n",
    "        # Getting the input embeddings\n",
    "        input_embeddings = token_embeddings + positional_embeddings\n",
    "        # Passing the input embeddings through the dropout layer\n",
    "        input_embeddings = self.drop_emb(input_embeddings)\n",
    "        # Passing the input embeddings through the transformer blocks\n",
    "        input_embeddings = self.transformer_blocks(input_embeddings)\n",
    "        # Passing the input embeddings through the final normalization layer\n",
    "        input_embeddings = self.final_norm(input_embeddings)\n",
    "        # Passint the input embeddings through the final linear layer to get logits\n",
    "        logits = self.out_head(input_embeddings)\n",
    "        return logits"
   ]
  },
  {
   "cell_type": "code",
   "execution_count": 7,
   "id": "a1b7e23a-b717-4279-be52-4a2e4c616700",
   "metadata": {},
   "outputs": [
    {
     "name": "stdout",
     "output_type": "stream",
     "text": [
      "torch.Size([2, 4])\n",
      "torch.Size([2, 4, 50257])\n"
     ]
    }
   ],
   "source": [
    "# Example of instantiation\n",
    "\n",
    "sample_batch = torch.tensor([[6109, 3636, 6100, 345],[6109, 1110, 6622, 257]])\n",
    "print(sample_batch.shape)\n",
    "torch.manual_seed(42)\n",
    "model = GPTModel(GPT_Config_124M)\n",
    "out = model(sample_batch)\n",
    "print(out.shape)"
   ]
  },
  {
   "cell_type": "code",
   "execution_count": 8,
   "id": "d877705d-b9b3-4e9d-9f4e-a528e37741fb",
   "metadata": {},
   "outputs": [
    {
     "data": {
      "text/plain": [
       "163009536"
      ]
     },
     "execution_count": 8,
     "metadata": {},
     "output_type": "execute_result"
    }
   ],
   "source": [
    "# Checking the number of parameters\n",
    "\n",
    "total_params = sum(p.numel() for p in model.parameters())\n",
    "total_params"
   ]
  },
  {
   "cell_type": "markdown",
   "id": "b158c4a4-ff26-4281-b3e8-294f2f89599c",
   "metadata": {},
   "source": [
    "- We can see this is not same as the original plan of 124M instead we have 163M\n",
    "- This is due to a concept weight tying\n",
    "- The GPT architechts reused the weight for the token embedding layer in the output layer"
   ]
  },
  {
   "cell_type": "code",
   "execution_count": 9,
   "id": "0a160dc4-bb39-47e5-8192-b8c4bfbcc089",
   "metadata": {},
   "outputs": [
    {
     "data": {
      "text/plain": [
       "True"
      ]
     },
     "execution_count": 9,
     "metadata": {},
     "output_type": "execute_result"
    }
   ],
   "source": [
    "# Confirming shapes match\n",
    "\n",
    "model.out_head.weight.shape == model.tok_emb.weight.shape"
   ]
  },
  {
   "cell_type": "code",
   "execution_count": 10,
   "id": "29b7aa64-fefb-4d28-8e43-3a8d6f7dab84",
   "metadata": {},
   "outputs": [
    {
     "data": {
      "text/plain": [
       "124412160"
      ]
     },
     "execution_count": 10,
     "metadata": {},
     "output_type": "execute_result"
    }
   ],
   "source": [
    "# Confirming the theory of weight reusal\n",
    "\n",
    "GPT_MODEL_PARAMS = total_params - sum(p.numel() for p in model.out_head.parameters())\n",
    "GPT_MODEL_PARAMS"
   ]
  },
  {
   "cell_type": "markdown",
   "id": "d3164776-333e-4636-8c25-b9e6e8dbb5ca",
   "metadata": {},
   "source": [
    "## 3.Generating output tokens"
   ]
  },
  {
   "cell_type": "code",
   "execution_count": 11,
   "id": "98f37464-711c-4356-9fe1-646e052b9a72",
   "metadata": {},
   "outputs": [],
   "source": [
    "# Check LLM book for further clarification\n",
    "\n",
    "def generate_tokens_simple(model, idx, max_num_tokens, context_size):\n",
    "    # Number of iterations - number of new tokens to be generated\n",
    "    for _ in range(max_num_tokens):\n",
    "        # idx.shape = [batch, num_tokens] e.g = [2, 2]\n",
    "        # Slicing - making sure the context size = 5 if not select last 5 tokens\n",
    "        idx_condition = idx[:, -5:]\n",
    "        # Making predictions - getting the logits - logits.shape = [b, num_tokens, vocab_size]\n",
    "        with torch.no_grad():\n",
    "            logits = model(idx_condition)\n",
    "        # Extracting the last token row - logits[:, -1, :].shape = [b, 1, vocab_size]\n",
    "        logits = logits[:, -1, :]\n",
    "        # Converting the logits into probabilities - exponential sum\n",
    "        probabilities = torch.softmax(logits, dim=-1)\n",
    "        # Getting the element with the highest probability\n",
    "        idx_next = torch.argmax(probabilities, dim=-1, keepdim=True)\n",
    "        # Appending the predicted token to the running sequence\n",
    "        # idx = [b, num_tokens+1]\n",
    "        idx = torch.cat((idx, idx_next), dim=1)\n",
    "    # Returning the full sequence = original + generated upto max number of tokens\n",
    "    return idx   "
   ]
  },
  {
   "cell_type": "markdown",
   "id": "bc1b4144-0290-4ce3-bff6-cf99789e8332",
   "metadata": {},
   "source": [
    "## Testing Generation using real text"
   ]
  },
  {
   "cell_type": "code",
   "execution_count": 12,
   "id": "056aa2f6-6dc5-42fb-8f20-dcebf525143d",
   "metadata": {},
   "outputs": [
    {
     "name": "stdout",
     "output_type": "stream",
     "text": [
      "Encoded text =  [15496, 11, 314, 716, 12806, 422, 25935]\n",
      "Encoded tensor =  tensor([[15496,    11,   314,   716, 12806,   422, 25935]]) Shape =  torch.Size([1, 7])\n"
     ]
    }
   ],
   "source": [
    "# Encoding text to token ids\n",
    "import tiktoken\n",
    "\n",
    "starting_context = \"Hello, I am Jacob from Congo\"\n",
    "tokenizer = tiktoken.get_encoding(\"gpt2\")\n",
    "encoded = tokenizer.encode(starting_context)\n",
    "print(\"Encoded text = \", encoded)\n",
    "# Converting the encode into a tensor\n",
    "# The unsqueeze - we are adding an dimension: [num_tokens] ---> [b, num_tokens]\n",
    "encoded = torch.tensor(encoded).unsqueeze(0)\n",
    "print(\"Encoded tensor = \", encoded, \"Shape = \", encoded.shape)"
   ]
  },
  {
   "cell_type": "code",
   "execution_count": 13,
   "id": "d7729591-1867-4aec-94c8-88ae585948bd",
   "metadata": {},
   "outputs": [
    {
     "name": "stdout",
     "output_type": "stream",
     "text": [
      "Output tensor = tensor([[15496,    11,   314,   716, 12806,   422, 25935,  8559, 24744, 13606,\n",
      "         19558, 22782, 30214]]) Output tensor shape = torch.Size([1, 13])\n"
     ]
    }
   ],
   "source": [
    "# Generating text using our model\n",
    "\n",
    "# Setting the evaluation/testing mode - cancels some unnecessary components e.g dropout layers\n",
    "model.eval()\n",
    "output_tensor = generate_tokens_simple(\n",
    "    model = model,\n",
    "    idx = encoded,\n",
    "    max_num_tokens = 6,\n",
    "    context_size = GPT_Config_124M[\"context_length\"]\n",
    ")\n",
    "print(f\"Output tensor = {output_tensor} Output tensor shape = {output_tensor.shape}\")"
   ]
  },
  {
   "cell_type": "code",
   "execution_count": 14,
   "id": "e1eeaaf3-308e-44d7-ad60-5f9397e1e81d",
   "metadata": {},
   "outputs": [
    {
     "data": {
      "text/plain": [
       "'Hello, I am Jacob from Congo Fredrots Marshall fog punkFri'"
      ]
     },
     "execution_count": 14,
     "metadata": {},
     "output_type": "execute_result"
    }
   ],
   "source": [
    "# Decoding the output tensor - remember we need to squeeze the first batch dimension\n",
    "# Note that the tiktoken doesnt work with tensor so use python lists or numpy arrays\n",
    "\n",
    "decoded_text = tokenizer.decode(output_tensor.squeeze(0).numpy())\n",
    "decoded_text"
   ]
  }
 ],
 "metadata": {
  "kernelspec": {
   "display_name": "Python 3 (ipykernel)",
   "language": "python",
   "name": "python3"
  },
  "language_info": {
   "codemirror_mode": {
    "name": "ipython",
    "version": 3
   },
   "file_extension": ".py",
   "mimetype": "text/x-python",
   "name": "python",
   "nbconvert_exporter": "python",
   "pygments_lexer": "ipython3",
   "version": "3.11.10"
  }
 },
 "nbformat": 4,
 "nbformat_minor": 5
}
