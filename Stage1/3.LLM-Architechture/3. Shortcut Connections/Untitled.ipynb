{
 "cells": [
  {
   "cell_type": "markdown",
   "id": "df180832-cd2f-4eca-af29-fb73422dbfbc",
   "metadata": {},
   "source": [
    "## ----------------------------------shortcut Connections--------------------------------"
   ]
  },
  {
   "cell_type": "code",
   "execution_count": 90,
   "id": "eba94c46-d9b4-4680-a904-603ea9016229",
   "metadata": {},
   "outputs": [],
   "source": [
    "import torch \n",
    "from torch import nn\n",
    "\n",
    "class GELU(nn.Module):\n",
    "    def __init__(self):\n",
    "        super().__init__()\n",
    "    def forward(self, x):\n",
    "        # Pass the input through the GELU activation - Approximate formula\n",
    "        return 0.5 * x * (1 + torch.tanh(torch.sqrt(torch.tensor(2.0) / torch.pi) * (x + 0.44715 * torch.pow(x, 3)))                                                            )"
   ]
  },
  {
   "cell_type": "code",
   "execution_count": 91,
   "id": "32f32f93-be78-4f7f-a71b-1007efc26df6",
   "metadata": {},
   "outputs": [],
   "source": [
    "# Creating short-cut connection class\n",
    "\n",
    "class ExampleDeepNeuralNetwork(nn.Module):\n",
    "    def __init__(self, layer_sizes, use_shortcut: bool):\n",
    "        super().__init__()\n",
    "        # Variable to determine whether to use (not) shortcut \n",
    "        self.use_shortcut = use_shortcut\n",
    "        # Defining the layers\n",
    "        self.layers = nn.ModuleList([\n",
    "            nn.Sequential(nn.Linear(layer_sizes[0], layer_sizes[1]), GELU()),\n",
    "            nn.Sequential(nn.Linear(layer_sizes[1], layer_sizes[2]), GELU()),\n",
    "            nn.Sequential(nn.Linear(layer_sizes[2], layer_sizes[3]), GELU()),\n",
    "            nn.Sequential(nn.Linear(layer_sizes[3], layer_sizes[4]), GELU()),\n",
    "            nn.Sequential(nn.Linear(layer_sizes[4], layer_sizes[5]), GELU())\n",
    "        ])\n",
    "    def forward(self, x):\n",
    "        for layer in self.layers:\n",
    "            # Getting the output of each individual layer\n",
    "            layer_output = layer(x)\n",
    "            # Applying shortcut\n",
    "            if self.use_shortcut and x.shape == layer_output.shape:\n",
    "                x = x +  layer_output\n",
    "            else:\n",
    "                x = layer_output\n",
    "        return x        "
   ]
  },
  {
   "cell_type": "code",
   "execution_count": 92,
   "id": "2e349323-ac96-404f-9a20-65caa963a5a3",
   "metadata": {},
   "outputs": [],
   "source": [
    "# Creating sample data\n",
    "layer_sizes = [3, 3, 3, 3, 3, 1]\n",
    "sample_inputs = torch.tensor([[1., 0, -1.]])"
   ]
  },
  {
   "cell_type": "code",
   "execution_count": 93,
   "id": "1975a275-add3-48c1-9ba4-a4eb68b3b026",
   "metadata": {},
   "outputs": [],
   "source": [
    "# Creating a model without shortcuts\n",
    "torch.manual_seed(42)\n",
    "model_without_shortcuts = ExampleDeepNeuralNetwork(layer_sizes, False)"
   ]
  },
  {
   "cell_type": "code",
   "execution_count": 94,
   "id": "014fbae6-7339-44f8-a210-1ae0ab8b63d1",
   "metadata": {},
   "outputs": [],
   "source": [
    "# Creating a function to print the mean gradient for each layer\n",
    "\n",
    "def print_gradients(model, x):\n",
    "    # Forward pass\n",
    "    output = model(x)\n",
    "    # Creating the target\n",
    "    target = torch.tensor([[0.]])\n",
    "    # Getting the loss\n",
    "    loss = nn.MSELoss()\n",
    "    loss = loss(output, target)\n",
    "    # Backward propagatioon to calculate the gradients\n",
    "    loss.backward()\n",
    "    # Printing the mean of gradient\n",
    "    for name, param in model.named_parameters():\n",
    "        if \"weight\" in name:\n",
    "            print(f\"{name} Has a gradient mean = {param.grad.abs().mean().item()}\")"
   ]
  },
  {
   "cell_type": "code",
   "execution_count": 95,
   "id": "d61a2d1d-0ad8-4949-a4ef-0fc7e31c7815",
   "metadata": {},
   "outputs": [
    {
     "name": "stdout",
     "output_type": "stream",
     "text": [
      "layers.0.0.weight Has a gradient mean = 0.00012371748744044453\n",
      "layers.1.0.weight Has a gradient mean = 0.00022939023619983345\n",
      "layers.2.0.weight Has a gradient mean = 0.0002862405963242054\n",
      "layers.3.0.weight Has a gradient mean = 0.0018804551800712943\n",
      "layers.4.0.weight Has a gradient mean = 0.00592834735289216\n"
     ]
    }
   ],
   "source": [
    "print_gradients(model_without_shortcuts, sample_inputs)"
   ]
  },
  {
   "cell_type": "code",
   "execution_count": 96,
   "id": "6efa7921-875a-4168-9004-47617dbf15dc",
   "metadata": {},
   "outputs": [
    {
     "name": "stdout",
     "output_type": "stream",
     "text": [
      "layers.0.0.weight Has a gradient mean = 0.00684445071965456\n",
      "layers.1.0.weight Has a gradient mean = 0.010904626920819283\n",
      "layers.2.0.weight Has a gradient mean = 0.007769796531647444\n",
      "layers.3.0.weight Has a gradient mean = 0.009208275936543941\n",
      "layers.4.0.weight Has a gradient mean = 0.026989780366420746\n"
     ]
    }
   ],
   "source": [
    "# Creating a model with shortcut implementation\n",
    "torch.manual_seed(42)\n",
    "model_with_shortcuts = ExampleDeepNeuralNetwork(layer_sizes, True)\n",
    "print_gradients(model_with_shortcuts, sample_inputs)"
   ]
  }
 ],
 "metadata": {
  "kernelspec": {
   "display_name": "Python 3 (ipykernel)",
   "language": "python",
   "name": "python3"
  },
  "language_info": {
   "codemirror_mode": {
    "name": "ipython",
    "version": 3
   },
   "file_extension": ".py",
   "mimetype": "text/x-python",
   "name": "python",
   "nbconvert_exporter": "python",
   "pygments_lexer": "ipython3",
   "version": "3.11.10"
  }
 },
 "nbformat": 4,
 "nbformat_minor": 5
}
