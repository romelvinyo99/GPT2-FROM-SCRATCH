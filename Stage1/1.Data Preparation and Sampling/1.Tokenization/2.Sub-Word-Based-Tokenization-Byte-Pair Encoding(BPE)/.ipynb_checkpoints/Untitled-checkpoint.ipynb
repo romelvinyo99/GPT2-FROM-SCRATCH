{
 "cells": [
  {
   "cell_type": "markdown",
   "id": "b9bf731a-d573-443a-a384-089510e6dbae",
   "metadata": {},
   "source": [
    "## --------------------BYTE-PAIR ENCODING(BPE)--------------------------------------"
   ]
  },
  {
   "cell_type": "code",
   "execution_count": null,
   "id": "92ebf1e7-f5f7-4cf0-b263-3cef7fd5e111",
   "metadata": {},
   "outputs": [],
   "source": [
    "# word_based_tokenizer recap\n",
    "\n",
    "import spacy\n",
    "import re\n",
    "def create_vocab(text):\n",
    "    unique_words = sorted(set(text))\n",
    "    unique_words.extend([\"unk\", \"endoftext\"])\n",
    "    vocabulary = {word:ids for ids, words in enumerate(unique_words)}\n",
    "    return vocabulary\n",
    "class SimpleWordBasedTokenizer:\n",
    "    def __init__(self, vocab):\n",
    "        self.str_to_int = vocab\n",
    "        self.int_to_str = {ids:word for word, ids in vocab.items()}\n",
    "    def preprocess(self, text):\n",
    "        nlp = spacy.load(\"en_core_web_sm\")\n",
    "        doc = nlp(text)\n",
    "        tokens = []\n",
    "        for sentence in doc.sents:\n",
    "            for token in sentence:\n",
    "                tokens.append(token.text)\n",
    "        return tokens\n",
    "   def encode(self, tokens):\n",
    "       ids_1 = [self.str_to_int[word] for word in tokens]\n",
    "       ids_2 = []\n",
    "       for i in ids_1:\n",
    "           if i in self.str_to_int:\n",
    "               ids_2.append(\"unk\")\n",
    "           else:\n",
    "               ids_2.append(i)\n",
    "       return ids_2 \n",
    "   def decode(self, ids):\n",
    "       text = \" \".join([self.int_to_str[i] for i in ids])\n",
    "       text = re.sub(r'\\s+([,:;!?().])', \"\\1\", text)\n",
    "       return text"
   ]
  },
  {
   "cell_type": "markdown",
   "id": "8c1e17ce-070f-4d30-878c-852acdd54101",
   "metadata": {},
   "source": [
    "<br>\n",
    "&nbsp;\n",
    "\n",
    "## Using BPE from `tiktoken`"
   ]
  },
  {
   "cell_type": "code",
   "execution_count": 15,
   "id": "d76716a4-d15b-4070-b407-0312338eb6d5",
   "metadata": {},
   "outputs": [
    {
     "name": "stdout",
     "output_type": "stream",
     "text": [
      "Tiktoken version = 0.9.0\n"
     ]
    },
    {
     "data": {
      "text/plain": [
       "<Encoding 'gpt2'>"
      ]
     },
     "execution_count": 15,
     "metadata": {},
     "output_type": "execute_result"
    }
   ],
   "source": [
    "# Creating of the BPE tokenizer\n",
    "import tiktoken\n",
    "print(f\"Tiktoken version = {tiktoken.__version__}\")\n",
    "BPE_tokenizer = tiktoken.get_encoding(\"gpt2\")\n",
    "BPE_tokenizer"
   ]
  },
  {
   "cell_type": "markdown",
   "id": "cfb54940-58f6-48ba-beaa-66c1ea43be30",
   "metadata": {},
   "source": [
    "## Testing the tokenizer"
   ]
  },
  {
   "cell_type": "code",
   "execution_count": 23,
   "id": "cd5e481d-1b3d-4299-ab39-6f0990e1ba05",
   "metadata": {},
   "outputs": [
    {
     "name": "stdout",
     "output_type": "stream",
     "text": [
      "[15496, 466, 345, 588, 8887]\n",
      "The length of token ids = 18\n",
      "The length of original text = 78\n",
      "Decoded text:\n",
      "\tHello do you like tea? <|endoftext|> In the sunlit terracesof someunknownPlace\n"
     ]
    }
   ],
   "source": [
    "text = (\n",
    "    \"Hello do you like tea? <|endoftext|> In the sunlit terraces\"\n",
    "    \"of someunknownPlace\"\n",
    ")\n",
    "token_ids = BPE_tokenizer.encode(text, allowed_special={\"<|endoftext|>\"})\n",
    "print(token_ids[:5])\n",
    "print(f\"The length of token ids = {len(token_ids)}\\nThe length of original text = {len(text)}\")\n",
    "decoded_text = BPE_tokenizer.decode(token_ids)\n",
    "print(f\"Decoded text:\\n\\t{decoded_text}\")"
   ]
  },
  {
   "cell_type": "code",
   "execution_count": 26,
   "id": "3dfe4e51-a71d-4033-822f-1bb4f2377ba4",
   "metadata": {},
   "outputs": [
    {
     "name": "stdout",
     "output_type": "stream",
     "text": [
      "[10206, 86, 343, 86, 220, 959]\n",
      "AKwirw ier\n"
     ]
    }
   ],
   "source": [
    "# Testing the tokenizer with a simple text to demonstrate how it works\n",
    "text = \"AKwirw ier\"\n",
    "integers = BPE_tokenizer.encode(text)\n",
    "print(integers)\n",
    "strings = BPE_tokenizer.decode(integers)\n",
    "print(strings)"
   ]
  }
 ],
 "metadata": {
  "kernelspec": {
   "display_name": "Python 3 (ipykernel)",
   "language": "python",
   "name": "python3"
  },
  "language_info": {
   "codemirror_mode": {
    "name": "ipython",
    "version": 3
   },
   "file_extension": ".py",
   "mimetype": "text/x-python",
   "name": "python",
   "nbconvert_exporter": "python",
   "pygments_lexer": "ipython3",
   "version": "3.11.10"
  }
 },
 "nbformat": 4,
 "nbformat_minor": 5
}
